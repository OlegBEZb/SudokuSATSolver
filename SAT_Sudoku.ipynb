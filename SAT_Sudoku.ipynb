{
 "cells": [
  {
   "cell_type": "code",
   "execution_count": 1,
   "id": "07747bf7",
   "metadata": {
    "scrolled": true
   },
   "outputs": [],
   "source": [
    "import sys\n",
    "import os\n",
    "import math"
   ]
  },
  {
   "cell_type": "code",
   "execution_count": 2,
   "id": "d8e76d96",
   "metadata": {},
   "outputs": [
    {
     "data": {
      "text/plain": [
       "'0.1.7.dev12'"
      ]
     },
     "execution_count": 2,
     "metadata": {},
     "output_type": "execute_result"
    }
   ],
   "source": [
    "import pysat\n",
    "pysat.__version__"
   ]
  },
  {
   "cell_type": "code",
   "execution_count": 3,
   "id": "84975f8a",
   "metadata": {},
   "outputs": [],
   "source": [
    "from dpll import DPLL\n",
    "from utils import *"
   ]
  },
  {
   "cell_type": "code",
   "execution_count": 4,
   "id": "7aabb6b3",
   "metadata": {},
   "outputs": [],
   "source": [
    "test_sats_path = 'test sudokus'"
   ]
  },
  {
   "cell_type": "code",
   "execution_count": 5,
   "id": "761a9c96",
   "metadata": {},
   "outputs": [],
   "source": [
    "input_mapping = {'0':0,'1':1,'2':2,'3':3,'4':4,'5':5,'6':6,'7':7,'8':8,'9':9, 'A': 10, 'B': 11, \"C\": 12, 'D': 13, 'E': 14, 'F': 15, 'G': 16}\n",
    "\n",
    "inverse_input_mapping = {v:k for k, v in input_mapping.items()}"
   ]
  },
  {
   "cell_type": "code",
   "execution_count": 6,
   "id": "09760dfd",
   "metadata": {
    "scrolled": false
   },
   "outputs": [],
   "source": [
    "# found_assignments = sorted(solution[1], key=lambda x: x[0])\n",
    "\n",
    "# matrix = np.zeros((sudoku_size, sudoku_size), dtype=int)\n",
    "# for assignment in found_assignments:\n",
    "#     if assignment[1]:\n",
    "#         item = assignment[0]\n",
    "#         matrix[int(item[0])-1, int(item[1])-1] = int(item[2])\n",
    "        \n",
    "# matprint(matrix)"
   ]
  },
  {
   "cell_type": "markdown",
   "id": "aaeff9b0",
   "metadata": {},
   "source": [
    "# Experiment"
   ]
  },
  {
   "cell_type": "code",
   "execution_count": 7,
   "id": "7fc78eeb",
   "metadata": {},
   "outputs": [],
   "source": [
    "from utils import exit_after"
   ]
  },
  {
   "cell_type": "code",
   "execution_count": 38,
   "id": "5e01d9f0",
   "metadata": {},
   "outputs": [],
   "source": [
    "import random\n",
    "import pandas as pd"
   ]
  },
  {
   "cell_type": "code",
   "execution_count": 9,
   "id": "8f020df8",
   "metadata": {},
   "outputs": [],
   "source": [
    "import time\n",
    "import numpy as np\n",
    "import warnings\n",
    "warnings.filterwarnings(\"ignore\", category=np.VisibleDeprecationWarning) "
   ]
  },
  {
   "cell_type": "code",
   "execution_count": 43,
   "id": "378cd5ac",
   "metadata": {},
   "outputs": [
    {
     "data": {
      "text/plain": [
       "[825, 163, 714, 432, 348, 284, 159, 220, 980, 781]"
      ]
     },
     "execution_count": 43,
     "metadata": {},
     "output_type": "execute_result"
    }
   ],
   "source": [
    "random.sample(range(0, 1000), 10)"
   ]
  },
  {
   "cell_type": "code",
   "execution_count": 45,
   "id": "560e4779",
   "metadata": {},
   "outputs": [],
   "source": [
    "def run_experiment(rules_path, setups_path, \n",
    "                   variable_selection_method='JWTS',\n",
    "                   sudoku_num=50,\n",
    "                   duration_limit_sec=300):\n",
    "    rules = read_DIMACS(rules_path)\n",
    "    \n",
    "    with open(setups_path) as f:\n",
    "        sudoku_list = f.readlines()\n",
    "    random.seed(42)\n",
    "    sudoku_sample_indices = random.sample(range(0, len(sudoku_list)), sudoku_num)\n",
    "    \n",
    "    results_df = pd.DataFrame()\n",
    "\n",
    "    for sudoku_index in sudoku_sample_indices:\n",
    "        sudoku = sudoku_list[sudoku_index]\n",
    "        \n",
    "        sudoku_setup_CNF, sudoku_setup_DIMACS, sudoku_size = line2CNF(sudoku, inverse_input_mapping)\n",
    "        \n",
    "        clauses = rules + sudoku_setup_CNF\n",
    "        solver = DPLL(clauses, \n",
    "                      variable_selection_method=variable_selection_method, \n",
    "                      verbose=0)\n",
    "                \n",
    "        time_limit = False\n",
    "        start = time.time()\n",
    "        try:\n",
    "            solution = exit_after(duration_limit_sec)(solver.backtrack)(solver.clauses, partial_assignment=[], split_literal=tuple())     \n",
    "        except:\n",
    "            print(f'Was not solved in {duration_limit_sec} seconds. Skip')\n",
    "            solution = False, None\n",
    "            time_limit = True\n",
    "        solution_time = time.time() - start\n",
    "        \n",
    "        givens, givens_num, row_fullness, col_fullness = get_setup_info(sudoku, sudoku_setup_CNF, sudoku_size)\n",
    "\n",
    "        results_df.loc[len(results_df), ['rules_path', 'setups_path', 'setup_index', 'givens', 'givens_num', 'row_fullness', 'col_fullness', 'variable_selection_method', 'sat', 'solution', 'time_limit', 'time', 'backtracks']] = rules_path, setups_path, sudoku_index, givens, givens_num, row_fullness, col_fullness, variable_selection_method, *solution, time_limit, solution_time, solver.backtrack_counter\n",
    "        display(results_df.tail(1))\n",
    "        \n",
    "    return results_df"
   ]
  },
  {
   "cell_type": "code",
   "execution_count": 47,
   "id": "b319d519",
   "metadata": {
    "scrolled": true
   },
   "outputs": [
    {
     "data": {
      "text/html": [
       "<div>\n",
       "<style scoped>\n",
       "    .dataframe tbody tr th:only-of-type {\n",
       "        vertical-align: middle;\n",
       "    }\n",
       "\n",
       "    .dataframe tbody tr th {\n",
       "        vertical-align: top;\n",
       "    }\n",
       "\n",
       "    .dataframe thead th {\n",
       "        text-align: right;\n",
       "    }\n",
       "</style>\n",
       "<table border=\"1\" class=\"dataframe\">\n",
       "  <thead>\n",
       "    <tr style=\"text-align: right;\">\n",
       "      <th></th>\n",
       "      <th>rules_path</th>\n",
       "      <th>setups_path</th>\n",
       "      <th>setup_index</th>\n",
       "      <th>givens</th>\n",
       "      <th>givens_num</th>\n",
       "      <th>row_fullness</th>\n",
       "      <th>col_fullness</th>\n",
       "      <th>variable_selection_method</th>\n",
       "      <th>sat</th>\n",
       "      <th>solution</th>\n",
       "      <th>time_limit</th>\n",
       "      <th>time</th>\n",
       "      <th>backtracks</th>\n",
       "    </tr>\n",
       "  </thead>\n",
       "  <tbody>\n",
       "    <tr>\n",
       "      <th>0</th>\n",
       "      <td>test sudokus/sudoku-rules-9x9.txt</td>\n",
       "      <td>test sudokus/1000 sudokus.txt</td>\n",
       "      <td>654.0</td>\n",
       "      <td>{'.': 56, '4': 4, '8': 2, '6': 3, '2': 4, '5':...</td>\n",
       "      <td>25.0</td>\n",
       "      <td>{1: 2, 2: 2, 3: 3, 4: 2, 5: 4, 6: 3, 7: 3, 8: ...</td>\n",
       "      <td>{1: 1, 2: 4, 3: 4, 4: 2, 5: 4, 6: 2, 7: 0, 8: ...</td>\n",
       "      <td>random</td>\n",
       "      <td>True</td>\n",
       "      <td>[(154, True), (151, False), (152, False), (153...</td>\n",
       "      <td>False</td>\n",
       "      <td>23.219071</td>\n",
       "      <td>1.0</td>\n",
       "    </tr>\n",
       "  </tbody>\n",
       "</table>\n",
       "</div>"
      ],
      "text/plain": [
       "                          rules_path                    setups_path  \\\n",
       "0  test sudokus/sudoku-rules-9x9.txt  test sudokus/1000 sudokus.txt   \n",
       "\n",
       "   setup_index                                             givens  givens_num  \\\n",
       "0        654.0  {'.': 56, '4': 4, '8': 2, '6': 3, '2': 4, '5':...        25.0   \n",
       "\n",
       "                                        row_fullness  \\\n",
       "0  {1: 2, 2: 2, 3: 3, 4: 2, 5: 4, 6: 3, 7: 3, 8: ...   \n",
       "\n",
       "                                        col_fullness  \\\n",
       "0  {1: 1, 2: 4, 3: 4, 4: 2, 5: 4, 6: 2, 7: 0, 8: ...   \n",
       "\n",
       "  variable_selection_method   sat  \\\n",
       "0                    random  True   \n",
       "\n",
       "                                            solution time_limit       time  \\\n",
       "0  [(154, True), (151, False), (152, False), (153...      False  23.219071   \n",
       "\n",
       "   backtracks  \n",
       "0         1.0  "
      ]
     },
     "metadata": {},
     "output_type": "display_data"
    },
    {
     "data": {
      "text/html": [
       "<div>\n",
       "<style scoped>\n",
       "    .dataframe tbody tr th:only-of-type {\n",
       "        vertical-align: middle;\n",
       "    }\n",
       "\n",
       "    .dataframe tbody tr th {\n",
       "        vertical-align: top;\n",
       "    }\n",
       "\n",
       "    .dataframe thead th {\n",
       "        text-align: right;\n",
       "    }\n",
       "</style>\n",
       "<table border=\"1\" class=\"dataframe\">\n",
       "  <thead>\n",
       "    <tr style=\"text-align: right;\">\n",
       "      <th></th>\n",
       "      <th>rules_path</th>\n",
       "      <th>setups_path</th>\n",
       "      <th>setup_index</th>\n",
       "      <th>givens</th>\n",
       "      <th>givens_num</th>\n",
       "      <th>row_fullness</th>\n",
       "      <th>col_fullness</th>\n",
       "      <th>variable_selection_method</th>\n",
       "      <th>sat</th>\n",
       "      <th>solution</th>\n",
       "      <th>time_limit</th>\n",
       "      <th>time</th>\n",
       "      <th>backtracks</th>\n",
       "    </tr>\n",
       "  </thead>\n",
       "  <tbody>\n",
       "    <tr>\n",
       "      <th>1</th>\n",
       "      <td>test sudokus/sudoku-rules-9x9.txt</td>\n",
       "      <td>test sudokus/1000 sudokus.txt</td>\n",
       "      <td>114.0</td>\n",
       "      <td>{'.': 58, '8': 4, '3': 2, '7': 2, '9': 2, '1':...</td>\n",
       "      <td>23.0</td>\n",
       "      <td>{1: 0, 2: 3, 3: 4, 4: 1, 5: 3, 6: 4, 7: 2, 8: ...</td>\n",
       "      <td>{1: 1, 2: 3, 3: 4, 4: 2, 5: 2, 6: 3, 7: 4, 8: ...</td>\n",
       "      <td>random</td>\n",
       "      <td>True</td>\n",
       "      <td>[(248, True), (241, False), (242, False), (243...</td>\n",
       "      <td>False</td>\n",
       "      <td>25.190921</td>\n",
       "      <td>3.0</td>\n",
       "    </tr>\n",
       "  </tbody>\n",
       "</table>\n",
       "</div>"
      ],
      "text/plain": [
       "                          rules_path                    setups_path  \\\n",
       "1  test sudokus/sudoku-rules-9x9.txt  test sudokus/1000 sudokus.txt   \n",
       "\n",
       "   setup_index                                             givens  givens_num  \\\n",
       "1        114.0  {'.': 58, '8': 4, '3': 2, '7': 2, '9': 2, '1':...        23.0   \n",
       "\n",
       "                                        row_fullness  \\\n",
       "1  {1: 0, 2: 3, 3: 4, 4: 1, 5: 3, 6: 4, 7: 2, 8: ...   \n",
       "\n",
       "                                        col_fullness  \\\n",
       "1  {1: 1, 2: 3, 3: 4, 4: 2, 5: 2, 6: 3, 7: 4, 8: ...   \n",
       "\n",
       "  variable_selection_method   sat  \\\n",
       "1                    random  True   \n",
       "\n",
       "                                            solution time_limit       time  \\\n",
       "1  [(248, True), (241, False), (242, False), (243...      False  25.190921   \n",
       "\n",
       "   backtracks  \n",
       "1         3.0  "
      ]
     },
     "metadata": {},
     "output_type": "display_data"
    },
    {
     "data": {
      "text/html": [
       "<div>\n",
       "<style scoped>\n",
       "    .dataframe tbody tr th:only-of-type {\n",
       "        vertical-align: middle;\n",
       "    }\n",
       "\n",
       "    .dataframe tbody tr th {\n",
       "        vertical-align: top;\n",
       "    }\n",
       "\n",
       "    .dataframe thead th {\n",
       "        text-align: right;\n",
       "    }\n",
       "</style>\n",
       "<table border=\"1\" class=\"dataframe\">\n",
       "  <thead>\n",
       "    <tr style=\"text-align: right;\">\n",
       "      <th></th>\n",
       "      <th>rules_path</th>\n",
       "      <th>setups_path</th>\n",
       "      <th>setup_index</th>\n",
       "      <th>givens</th>\n",
       "      <th>givens_num</th>\n",
       "      <th>row_fullness</th>\n",
       "      <th>col_fullness</th>\n",
       "      <th>variable_selection_method</th>\n",
       "      <th>sat</th>\n",
       "      <th>solution</th>\n",
       "      <th>time_limit</th>\n",
       "      <th>time</th>\n",
       "      <th>backtracks</th>\n",
       "    </tr>\n",
       "  </thead>\n",
       "  <tbody>\n",
       "    <tr>\n",
       "      <th>2</th>\n",
       "      <td>test sudokus/sudoku-rules-9x9.txt</td>\n",
       "      <td>test sudokus/1000 sudokus.txt</td>\n",
       "      <td>25.0</td>\n",
       "      <td>{'.': 58, '4': 3, '1': 4, '9': 3, '6': 1, '3':...</td>\n",
       "      <td>23.0</td>\n",
       "      <td>{1: 1, 2: 4, 3: 2, 4: 1, 5: 4, 6: 1, 7: 3, 8: ...</td>\n",
       "      <td>{1: 2, 2: 4, 3: 2, 4: 3, 5: 2, 6: 3, 7: 4, 8: ...</td>\n",
       "      <td>random</td>\n",
       "      <td>True</td>\n",
       "      <td>[(154, True), (151, False), (152, False), (153...</td>\n",
       "      <td>False</td>\n",
       "      <td>27.074837</td>\n",
       "      <td>6.0</td>\n",
       "    </tr>\n",
       "  </tbody>\n",
       "</table>\n",
       "</div>"
      ],
      "text/plain": [
       "                          rules_path                    setups_path  \\\n",
       "2  test sudokus/sudoku-rules-9x9.txt  test sudokus/1000 sudokus.txt   \n",
       "\n",
       "   setup_index                                             givens  givens_num  \\\n",
       "2         25.0  {'.': 58, '4': 3, '1': 4, '9': 3, '6': 1, '3':...        23.0   \n",
       "\n",
       "                                        row_fullness  \\\n",
       "2  {1: 1, 2: 4, 3: 2, 4: 1, 5: 4, 6: 1, 7: 3, 8: ...   \n",
       "\n",
       "                                        col_fullness  \\\n",
       "2  {1: 2, 2: 4, 3: 2, 4: 3, 5: 2, 6: 3, 7: 4, 8: ...   \n",
       "\n",
       "  variable_selection_method   sat  \\\n",
       "2                    random  True   \n",
       "\n",
       "                                            solution time_limit       time  \\\n",
       "2  [(154, True), (151, False), (152, False), (153...      False  27.074837   \n",
       "\n",
       "   backtracks  \n",
       "2         6.0  "
      ]
     },
     "metadata": {},
     "output_type": "display_data"
    },
    {
     "data": {
      "text/html": [
       "<div>\n",
       "<style scoped>\n",
       "    .dataframe tbody tr th:only-of-type {\n",
       "        vertical-align: middle;\n",
       "    }\n",
       "\n",
       "    .dataframe tbody tr th {\n",
       "        vertical-align: top;\n",
       "    }\n",
       "\n",
       "    .dataframe thead th {\n",
       "        text-align: right;\n",
       "    }\n",
       "</style>\n",
       "<table border=\"1\" class=\"dataframe\">\n",
       "  <thead>\n",
       "    <tr style=\"text-align: right;\">\n",
       "      <th></th>\n",
       "      <th>rules_path</th>\n",
       "      <th>setups_path</th>\n",
       "      <th>setup_index</th>\n",
       "      <th>givens</th>\n",
       "      <th>givens_num</th>\n",
       "      <th>row_fullness</th>\n",
       "      <th>col_fullness</th>\n",
       "      <th>variable_selection_method</th>\n",
       "      <th>sat</th>\n",
       "      <th>solution</th>\n",
       "      <th>time_limit</th>\n",
       "      <th>time</th>\n",
       "      <th>backtracks</th>\n",
       "    </tr>\n",
       "  </thead>\n",
       "  <tbody>\n",
       "    <tr>\n",
       "      <th>3</th>\n",
       "      <td>test sudokus/sudoku-rules-9x9.txt</td>\n",
       "      <td>test sudokus/1000 sudokus.txt</td>\n",
       "      <td>759.0</td>\n",
       "      <td>{'.': 55, '4': 3, '3': 5, '9': 3, '8': 2, '1':...</td>\n",
       "      <td>26.0</td>\n",
       "      <td>{1: 2, 2: 2, 3: 4, 4: 3, 5: 2, 6: 4, 7: 1, 8: ...</td>\n",
       "      <td>{1: 3, 2: 1, 3: 5, 4: 4, 5: 1, 6: 2, 7: 3, 8: ...</td>\n",
       "      <td>random</td>\n",
       "      <td>True</td>\n",
       "      <td>[(154, True), (151, False), (152, False), (153...</td>\n",
       "      <td>False</td>\n",
       "      <td>26.741522</td>\n",
       "      <td>26.0</td>\n",
       "    </tr>\n",
       "  </tbody>\n",
       "</table>\n",
       "</div>"
      ],
      "text/plain": [
       "                          rules_path                    setups_path  \\\n",
       "3  test sudokus/sudoku-rules-9x9.txt  test sudokus/1000 sudokus.txt   \n",
       "\n",
       "   setup_index                                             givens  givens_num  \\\n",
       "3        759.0  {'.': 55, '4': 3, '3': 5, '9': 3, '8': 2, '1':...        26.0   \n",
       "\n",
       "                                        row_fullness  \\\n",
       "3  {1: 2, 2: 2, 3: 4, 4: 3, 5: 2, 6: 4, 7: 1, 8: ...   \n",
       "\n",
       "                                        col_fullness  \\\n",
       "3  {1: 3, 2: 1, 3: 5, 4: 4, 5: 1, 6: 2, 7: 3, 8: ...   \n",
       "\n",
       "  variable_selection_method   sat  \\\n",
       "3                    random  True   \n",
       "\n",
       "                                            solution time_limit       time  \\\n",
       "3  [(154, True), (151, False), (152, False), (153...      False  26.741522   \n",
       "\n",
       "   backtracks  \n",
       "3        26.0  "
      ]
     },
     "metadata": {},
     "output_type": "display_data"
    },
    {
     "data": {
      "text/html": [
       "<div>\n",
       "<style scoped>\n",
       "    .dataframe tbody tr th:only-of-type {\n",
       "        vertical-align: middle;\n",
       "    }\n",
       "\n",
       "    .dataframe tbody tr th {\n",
       "        vertical-align: top;\n",
       "    }\n",
       "\n",
       "    .dataframe thead th {\n",
       "        text-align: right;\n",
       "    }\n",
       "</style>\n",
       "<table border=\"1\" class=\"dataframe\">\n",
       "  <thead>\n",
       "    <tr style=\"text-align: right;\">\n",
       "      <th></th>\n",
       "      <th>rules_path</th>\n",
       "      <th>setups_path</th>\n",
       "      <th>setup_index</th>\n",
       "      <th>givens</th>\n",
       "      <th>givens_num</th>\n",
       "      <th>row_fullness</th>\n",
       "      <th>col_fullness</th>\n",
       "      <th>variable_selection_method</th>\n",
       "      <th>sat</th>\n",
       "      <th>solution</th>\n",
       "      <th>time_limit</th>\n",
       "      <th>time</th>\n",
       "      <th>backtracks</th>\n",
       "    </tr>\n",
       "  </thead>\n",
       "  <tbody>\n",
       "    <tr>\n",
       "      <th>4</th>\n",
       "      <td>test sudokus/sudoku-rules-9x9.txt</td>\n",
       "      <td>test sudokus/1000 sudokus.txt</td>\n",
       "      <td>281.0</td>\n",
       "      <td>{'.': 57, '5': 2, '7': 4, '3': 3, '8': 3, '9':...</td>\n",
       "      <td>24.0</td>\n",
       "      <td>{1: 2, 2: 5, 3: 2, 4: 0, 5: 4, 6: 3, 7: 3, 8: ...</td>\n",
       "      <td>{1: 3, 2: 3, 3: 3, 4: 3, 5: 3, 6: 1, 7: 4, 8: ...</td>\n",
       "      <td>random</td>\n",
       "      <td>True</td>\n",
       "      <td>[(145, True), (141, False), (142, False), (143...</td>\n",
       "      <td>False</td>\n",
       "      <td>31.574271</td>\n",
       "      <td>38.0</td>\n",
       "    </tr>\n",
       "  </tbody>\n",
       "</table>\n",
       "</div>"
      ],
      "text/plain": [
       "                          rules_path                    setups_path  \\\n",
       "4  test sudokus/sudoku-rules-9x9.txt  test sudokus/1000 sudokus.txt   \n",
       "\n",
       "   setup_index                                             givens  givens_num  \\\n",
       "4        281.0  {'.': 57, '5': 2, '7': 4, '3': 3, '8': 3, '9':...        24.0   \n",
       "\n",
       "                                        row_fullness  \\\n",
       "4  {1: 2, 2: 5, 3: 2, 4: 0, 5: 4, 6: 3, 7: 3, 8: ...   \n",
       "\n",
       "                                        col_fullness  \\\n",
       "4  {1: 3, 2: 3, 3: 3, 4: 3, 5: 3, 6: 1, 7: 4, 8: ...   \n",
       "\n",
       "  variable_selection_method   sat  \\\n",
       "4                    random  True   \n",
       "\n",
       "                                            solution time_limit       time  \\\n",
       "4  [(145, True), (141, False), (142, False), (143...      False  31.574271   \n",
       "\n",
       "   backtracks  \n",
       "4        38.0  "
      ]
     },
     "metadata": {},
     "output_type": "display_data"
    },
    {
     "data": {
      "text/html": [
       "<div>\n",
       "<style scoped>\n",
       "    .dataframe tbody tr th:only-of-type {\n",
       "        vertical-align: middle;\n",
       "    }\n",
       "\n",
       "    .dataframe tbody tr th {\n",
       "        vertical-align: top;\n",
       "    }\n",
       "\n",
       "    .dataframe thead th {\n",
       "        text-align: right;\n",
       "    }\n",
       "</style>\n",
       "<table border=\"1\" class=\"dataframe\">\n",
       "  <thead>\n",
       "    <tr style=\"text-align: right;\">\n",
       "      <th></th>\n",
       "      <th>rules_path</th>\n",
       "      <th>setups_path</th>\n",
       "      <th>setup_index</th>\n",
       "      <th>givens</th>\n",
       "      <th>givens_num</th>\n",
       "      <th>row_fullness</th>\n",
       "      <th>col_fullness</th>\n",
       "      <th>variable_selection_method</th>\n",
       "      <th>sat</th>\n",
       "      <th>solution</th>\n",
       "      <th>time_limit</th>\n",
       "      <th>time</th>\n",
       "      <th>backtracks</th>\n",
       "    </tr>\n",
       "  </thead>\n",
       "  <tbody>\n",
       "    <tr>\n",
       "      <th>5</th>\n",
       "      <td>test sudokus/sudoku-rules-9x9.txt</td>\n",
       "      <td>test sudokus/1000 sudokus.txt</td>\n",
       "      <td>250.0</td>\n",
       "      <td>{'.': 57, '7': 3, '9': 3, '1': 3, '3': 2, '5':...</td>\n",
       "      <td>24.0</td>\n",
       "      <td>{1: 3, 2: 4, 3: 1, 4: 0, 5: 3, 6: 4, 7: 2, 8: ...</td>\n",
       "      <td>{1: 1, 2: 5, 3: 1, 4: 3, 5: 2, 6: 4, 7: 2, 8: ...</td>\n",
       "      <td>random</td>\n",
       "      <td>True</td>\n",
       "      <td>[(127, True), (121, False), (122, False), (123...</td>\n",
       "      <td>False</td>\n",
       "      <td>22.704949</td>\n",
       "      <td>3.0</td>\n",
       "    </tr>\n",
       "  </tbody>\n",
       "</table>\n",
       "</div>"
      ],
      "text/plain": [
       "                          rules_path                    setups_path  \\\n",
       "5  test sudokus/sudoku-rules-9x9.txt  test sudokus/1000 sudokus.txt   \n",
       "\n",
       "   setup_index                                             givens  givens_num  \\\n",
       "5        250.0  {'.': 57, '7': 3, '9': 3, '1': 3, '3': 2, '5':...        24.0   \n",
       "\n",
       "                                        row_fullness  \\\n",
       "5  {1: 3, 2: 4, 3: 1, 4: 0, 5: 3, 6: 4, 7: 2, 8: ...   \n",
       "\n",
       "                                        col_fullness  \\\n",
       "5  {1: 1, 2: 5, 3: 1, 4: 3, 5: 2, 6: 4, 7: 2, 8: ...   \n",
       "\n",
       "  variable_selection_method   sat  \\\n",
       "5                    random  True   \n",
       "\n",
       "                                            solution time_limit       time  \\\n",
       "5  [(127, True), (121, False), (122, False), (123...      False  22.704949   \n",
       "\n",
       "   backtracks  \n",
       "5         3.0  "
      ]
     },
     "metadata": {},
     "output_type": "display_data"
    },
    {
     "data": {
      "text/html": [
       "<div>\n",
       "<style scoped>\n",
       "    .dataframe tbody tr th:only-of-type {\n",
       "        vertical-align: middle;\n",
       "    }\n",
       "\n",
       "    .dataframe tbody tr th {\n",
       "        vertical-align: top;\n",
       "    }\n",
       "\n",
       "    .dataframe thead th {\n",
       "        text-align: right;\n",
       "    }\n",
       "</style>\n",
       "<table border=\"1\" class=\"dataframe\">\n",
       "  <thead>\n",
       "    <tr style=\"text-align: right;\">\n",
       "      <th></th>\n",
       "      <th>rules_path</th>\n",
       "      <th>setups_path</th>\n",
       "      <th>setup_index</th>\n",
       "      <th>givens</th>\n",
       "      <th>givens_num</th>\n",
       "      <th>row_fullness</th>\n",
       "      <th>col_fullness</th>\n",
       "      <th>variable_selection_method</th>\n",
       "      <th>sat</th>\n",
       "      <th>solution</th>\n",
       "      <th>time_limit</th>\n",
       "      <th>time</th>\n",
       "      <th>backtracks</th>\n",
       "    </tr>\n",
       "  </thead>\n",
       "  <tbody>\n",
       "    <tr>\n",
       "      <th>6</th>\n",
       "      <td>test sudokus/sudoku-rules-9x9.txt</td>\n",
       "      <td>test sudokus/1000 sudokus.txt</td>\n",
       "      <td>228.0</td>\n",
       "      <td>{'.': 57, '7': 3, '3': 3, '2': 4, '6': 3, '4':...</td>\n",
       "      <td>24.0</td>\n",
       "      <td>{1: 2, 2: 2, 3: 3, 4: 1, 5: 4, 6: 4, 7: 2, 8: ...</td>\n",
       "      <td>{1: 2, 2: 2, 3: 4, 4: 1, 5: 4, 6: 2, 7: 3, 8: ...</td>\n",
       "      <td>random</td>\n",
       "      <td>True</td>\n",
       "      <td>[(127, True), (121, False), (122, False), (123...</td>\n",
       "      <td>False</td>\n",
       "      <td>22.771446</td>\n",
       "      <td>8.0</td>\n",
       "    </tr>\n",
       "  </tbody>\n",
       "</table>\n",
       "</div>"
      ],
      "text/plain": [
       "                          rules_path                    setups_path  \\\n",
       "6  test sudokus/sudoku-rules-9x9.txt  test sudokus/1000 sudokus.txt   \n",
       "\n",
       "   setup_index                                             givens  givens_num  \\\n",
       "6        228.0  {'.': 57, '7': 3, '3': 3, '2': 4, '6': 3, '4':...        24.0   \n",
       "\n",
       "                                        row_fullness  \\\n",
       "6  {1: 2, 2: 2, 3: 3, 4: 1, 5: 4, 6: 4, 7: 2, 8: ...   \n",
       "\n",
       "                                        col_fullness  \\\n",
       "6  {1: 2, 2: 2, 3: 4, 4: 1, 5: 4, 6: 2, 7: 3, 8: ...   \n",
       "\n",
       "  variable_selection_method   sat  \\\n",
       "6                    random  True   \n",
       "\n",
       "                                            solution time_limit       time  \\\n",
       "6  [(127, True), (121, False), (122, False), (123...      False  22.771446   \n",
       "\n",
       "   backtracks  \n",
       "6         8.0  "
      ]
     },
     "metadata": {},
     "output_type": "display_data"
    },
    {
     "data": {
      "text/html": [
       "<div>\n",
       "<style scoped>\n",
       "    .dataframe tbody tr th:only-of-type {\n",
       "        vertical-align: middle;\n",
       "    }\n",
       "\n",
       "    .dataframe tbody tr th {\n",
       "        vertical-align: top;\n",
       "    }\n",
       "\n",
       "    .dataframe thead th {\n",
       "        text-align: right;\n",
       "    }\n",
       "</style>\n",
       "<table border=\"1\" class=\"dataframe\">\n",
       "  <thead>\n",
       "    <tr style=\"text-align: right;\">\n",
       "      <th></th>\n",
       "      <th>rules_path</th>\n",
       "      <th>setups_path</th>\n",
       "      <th>setup_index</th>\n",
       "      <th>givens</th>\n",
       "      <th>givens_num</th>\n",
       "      <th>row_fullness</th>\n",
       "      <th>col_fullness</th>\n",
       "      <th>variable_selection_method</th>\n",
       "      <th>sat</th>\n",
       "      <th>solution</th>\n",
       "      <th>time_limit</th>\n",
       "      <th>time</th>\n",
       "      <th>backtracks</th>\n",
       "    </tr>\n",
       "  </thead>\n",
       "  <tbody>\n",
       "    <tr>\n",
       "      <th>7</th>\n",
       "      <td>test sudokus/sudoku-rules-9x9.txt</td>\n",
       "      <td>test sudokus/1000 sudokus.txt</td>\n",
       "      <td>142.0</td>\n",
       "      <td>{'.': 57, '2': 4, '7': 4, '1': 2, '3': 3, '8':...</td>\n",
       "      <td>24.0</td>\n",
       "      <td>{1: 2, 2: 2, 3: 3, 4: 3, 5: 4, 6: 3, 7: 2, 8: ...</td>\n",
       "      <td>{1: 2, 2: 1, 3: 4, 4: 3, 5: 2, 6: 4, 7: 2, 8: ...</td>\n",
       "      <td>random</td>\n",
       "      <td>True</td>\n",
       "      <td>[(132, True), (131, False), (133, False), (134...</td>\n",
       "      <td>False</td>\n",
       "      <td>27.754162</td>\n",
       "      <td>10.0</td>\n",
       "    </tr>\n",
       "  </tbody>\n",
       "</table>\n",
       "</div>"
      ],
      "text/plain": [
       "                          rules_path                    setups_path  \\\n",
       "7  test sudokus/sudoku-rules-9x9.txt  test sudokus/1000 sudokus.txt   \n",
       "\n",
       "   setup_index                                             givens  givens_num  \\\n",
       "7        142.0  {'.': 57, '2': 4, '7': 4, '1': 2, '3': 3, '8':...        24.0   \n",
       "\n",
       "                                        row_fullness  \\\n",
       "7  {1: 2, 2: 2, 3: 3, 4: 3, 5: 4, 6: 3, 7: 2, 8: ...   \n",
       "\n",
       "                                        col_fullness  \\\n",
       "7  {1: 2, 2: 1, 3: 4, 4: 3, 5: 2, 6: 4, 7: 2, 8: ...   \n",
       "\n",
       "  variable_selection_method   sat  \\\n",
       "7                    random  True   \n",
       "\n",
       "                                            solution time_limit       time  \\\n",
       "7  [(132, True), (131, False), (133, False), (134...      False  27.754162   \n",
       "\n",
       "   backtracks  \n",
       "7        10.0  "
      ]
     },
     "metadata": {},
     "output_type": "display_data"
    },
    {
     "data": {
      "text/html": [
       "<div>\n",
       "<style scoped>\n",
       "    .dataframe tbody tr th:only-of-type {\n",
       "        vertical-align: middle;\n",
       "    }\n",
       "\n",
       "    .dataframe tbody tr th {\n",
       "        vertical-align: top;\n",
       "    }\n",
       "\n",
       "    .dataframe thead th {\n",
       "        text-align: right;\n",
       "    }\n",
       "</style>\n",
       "<table border=\"1\" class=\"dataframe\">\n",
       "  <thead>\n",
       "    <tr style=\"text-align: right;\">\n",
       "      <th></th>\n",
       "      <th>rules_path</th>\n",
       "      <th>setups_path</th>\n",
       "      <th>setup_index</th>\n",
       "      <th>givens</th>\n",
       "      <th>givens_num</th>\n",
       "      <th>row_fullness</th>\n",
       "      <th>col_fullness</th>\n",
       "      <th>variable_selection_method</th>\n",
       "      <th>sat</th>\n",
       "      <th>solution</th>\n",
       "      <th>time_limit</th>\n",
       "      <th>time</th>\n",
       "      <th>backtracks</th>\n",
       "    </tr>\n",
       "  </thead>\n",
       "  <tbody>\n",
       "    <tr>\n",
       "      <th>8</th>\n",
       "      <td>test sudokus/sudoku-rules-9x9.txt</td>\n",
       "      <td>test sudokus/1000 sudokus.txt</td>\n",
       "      <td>754.0</td>\n",
       "      <td>{'.': 55, '9': 2, '7': 3, '8': 4, '6': 4, '3':...</td>\n",
       "      <td>26.0</td>\n",
       "      <td>{1: 1, 2: 3, 3: 2, 4: 3, 5: 2, 6: 4, 7: 3, 8: ...</td>\n",
       "      <td>{1: 2, 2: 3, 3: 4, 4: 4, 5: 1, 6: 4, 7: 2, 8: ...</td>\n",
       "      <td>random</td>\n",
       "      <td>True</td>\n",
       "      <td>[(169, True), (161, False), (162, False), (163...</td>\n",
       "      <td>False</td>\n",
       "      <td>29.296921</td>\n",
       "      <td>1.0</td>\n",
       "    </tr>\n",
       "  </tbody>\n",
       "</table>\n",
       "</div>"
      ],
      "text/plain": [
       "                          rules_path                    setups_path  \\\n",
       "8  test sudokus/sudoku-rules-9x9.txt  test sudokus/1000 sudokus.txt   \n",
       "\n",
       "   setup_index                                             givens  givens_num  \\\n",
       "8        754.0  {'.': 55, '9': 2, '7': 3, '8': 4, '6': 4, '3':...        26.0   \n",
       "\n",
       "                                        row_fullness  \\\n",
       "8  {1: 1, 2: 3, 3: 2, 4: 3, 5: 2, 6: 4, 7: 3, 8: ...   \n",
       "\n",
       "                                        col_fullness  \\\n",
       "8  {1: 2, 2: 3, 3: 4, 4: 4, 5: 1, 6: 4, 7: 2, 8: ...   \n",
       "\n",
       "  variable_selection_method   sat  \\\n",
       "8                    random  True   \n",
       "\n",
       "                                            solution time_limit       time  \\\n",
       "8  [(169, True), (161, False), (162, False), (163...      False  29.296921   \n",
       "\n",
       "   backtracks  \n",
       "8         1.0  "
      ]
     },
     "metadata": {},
     "output_type": "display_data"
    },
    {
     "data": {
      "text/html": [
       "<div>\n",
       "<style scoped>\n",
       "    .dataframe tbody tr th:only-of-type {\n",
       "        vertical-align: middle;\n",
       "    }\n",
       "\n",
       "    .dataframe tbody tr th {\n",
       "        vertical-align: top;\n",
       "    }\n",
       "\n",
       "    .dataframe thead th {\n",
       "        text-align: right;\n",
       "    }\n",
       "</style>\n",
       "<table border=\"1\" class=\"dataframe\">\n",
       "  <thead>\n",
       "    <tr style=\"text-align: right;\">\n",
       "      <th></th>\n",
       "      <th>rules_path</th>\n",
       "      <th>setups_path</th>\n",
       "      <th>setup_index</th>\n",
       "      <th>givens</th>\n",
       "      <th>givens_num</th>\n",
       "      <th>row_fullness</th>\n",
       "      <th>col_fullness</th>\n",
       "      <th>variable_selection_method</th>\n",
       "      <th>sat</th>\n",
       "      <th>solution</th>\n",
       "      <th>time_limit</th>\n",
       "      <th>time</th>\n",
       "      <th>backtracks</th>\n",
       "    </tr>\n",
       "  </thead>\n",
       "  <tbody>\n",
       "    <tr>\n",
       "      <th>9</th>\n",
       "      <td>test sudokus/sudoku-rules-9x9.txt</td>\n",
       "      <td>test sudokus/1000 sudokus.txt</td>\n",
       "      <td>104.0</td>\n",
       "      <td>{'7': 3, '.': 58, '6': 4, '5': 1, '4': 3, '8':...</td>\n",
       "      <td>23.0</td>\n",
       "      <td>{1: 3, 2: 2, 3: 2, 4: 1, 5: 2, 6: 3, 7: 4, 8: ...</td>\n",
       "      <td>{1: 3, 2: 2, 3: 3, 4: 2, 5: 2, 6: 4, 7: 2, 8: ...</td>\n",
       "      <td>random</td>\n",
       "      <td>True</td>\n",
       "      <td>[(117, True), (111, False), (112, False), (113...</td>\n",
       "      <td>False</td>\n",
       "      <td>24.712709</td>\n",
       "      <td>1.0</td>\n",
       "    </tr>\n",
       "  </tbody>\n",
       "</table>\n",
       "</div>"
      ],
      "text/plain": [
       "                          rules_path                    setups_path  \\\n",
       "9  test sudokus/sudoku-rules-9x9.txt  test sudokus/1000 sudokus.txt   \n",
       "\n",
       "   setup_index                                             givens  givens_num  \\\n",
       "9        104.0  {'7': 3, '.': 58, '6': 4, '5': 1, '4': 3, '8':...        23.0   \n",
       "\n",
       "                                        row_fullness  \\\n",
       "9  {1: 3, 2: 2, 3: 2, 4: 1, 5: 2, 6: 3, 7: 4, 8: ...   \n",
       "\n",
       "                                        col_fullness  \\\n",
       "9  {1: 3, 2: 2, 3: 3, 4: 2, 5: 2, 6: 4, 7: 2, 8: ...   \n",
       "\n",
       "  variable_selection_method   sat  \\\n",
       "9                    random  True   \n",
       "\n",
       "                                            solution time_limit       time  \\\n",
       "9  [(117, True), (111, False), (112, False), (113...      False  24.712709   \n",
       "\n",
       "   backtracks  \n",
       "9         1.0  "
      ]
     },
     "metadata": {},
     "output_type": "display_data"
    }
   ],
   "source": [
    "variable_selection_method = 'random'\n",
    "sudoku_num = 10\n",
    "\n",
    "results_df = run_experiment(os.path.join(test_sats_path, 'sudoku-rules-9x9.txt'),\n",
    "                            os.path.join(test_sats_path, '1000 sudokus.txt'), # 1000 sudokus, 4x4\n",
    "                            variable_selection_method=variable_selection_method,\n",
    "                            sudoku_num=sudoku_num,\n",
    "                            duration_limit_sec=60,\n",
    "              )\n",
    "results_df.to_csv(f\"{sudoku_num}_launches_size_9_{variable_selection_method}.csv\", index=False)"
   ]
  },
  {
   "cell_type": "markdown",
   "id": "0e83326c",
   "metadata": {},
   "source": [
    "This is a two-sided test for the null hypothesis that 2 related or repeated samples have identical average (expected) values. \n",
    "\n",
    "https://en.wikipedia.org/wiki/T-test#Dependent_t-test_for_paired_samples"
   ]
  },
  {
   "cell_type": "code",
   "execution_count": 61,
   "id": "ff0f044b",
   "metadata": {},
   "outputs": [
    {
     "name": "stdout",
     "output_type": "stream",
     "text": [
      "statistic -1.4595767348947606, p 0.17841089768271826\n",
      "Considering a significance level = 0.05, Paired Student's t-test fails to reject the null hypothesis (p-value is greater than significance level). Therefore, we can claim that time variances are homogeneous/equal for both approaches\n"
     ]
    }
   ],
   "source": [
    "from scipy.stats import ttest_rel\n",
    "df1 = pd.read_csv(\"10_launches_size_9_fullness.csv\")\n",
    "df2 = pd.read_csv(\"10_launches_size_9_random.csv\")\n",
    "\n",
    "df1 = df1[df1['sat']]\n",
    "df2 = df2[df2['sat']]\n",
    "\n",
    "df1 = df1[df1['setup_index'].isin(df2['setup_index'])]\n",
    "df2 = df2[df2['setup_index'].isin(df1['setup_index'])]\n",
    "\n",
    "assert df1.shape == df2.shape, 'Dataframes should have the same lengths'\n",
    "\n",
    "stat, p = ttest_rel(df1['time'], df2['time'])\n",
    "print(f'statistic {stat}, p {p}')\n",
    "p_sig = 0.05\n",
    "if p > p_sig:\n",
    "    print(\"Considering a significance level = 0.05, Paired Student's t-test fails to reject the null hypothesis (p-value is greater than significance level). Therefore, we can claim that time variances are homogeneous/equal for both approaches\")\n",
    "else:\n",
    "    print(\"Considering a significance level = 0.05, Paired Student's t-test rejects the null hypothesis (p-value is less or equal than significance level). Therefore, we can claim that time variances are not homogeneous/equal for both approaches\")    "
   ]
  },
  {
   "cell_type": "code",
   "execution_count": 76,
   "id": "eb66329c",
   "metadata": {
    "scrolled": true
   },
   "outputs": [
    {
     "data": {
      "image/png": "[encoded data removed]",
      "text/plain": [
       "<Figure size 432x288 with 1 Axes>"
      ]
     },
     "metadata": {
      "needs_background": "light"
     },
     "output_type": "display_data"
    }
   ],
   "source": [
    "import matplotlib.pyplot as plt\n",
    "\n",
    "df1['time'].hist(color='r', alpha=0.5, label='fullness')\n",
    "df2['time'].hist(color='b', alpha=0.5, label='random')\n",
    "plt.title(\"Time histograms\", fontsize=16)\n",
    "plt.legend();"
   ]
  },
  {
   "cell_type": "code",
   "execution_count": 69,
   "id": "a9319999",
   "metadata": {},
   "outputs": [
    {
     "ename": "NameError",
     "evalue": "name 'row_fullness' is not defined",
     "output_type": "error",
     "traceback": [
      "\u001b[0;31m---------------------------------------------------------------------------\u001b[0m",
      "\u001b[0;31mNameError\u001b[0m                                 Traceback (most recent call last)",
      "\u001b[0;32m<ipython-input-69-d1b931d357db>\u001b[0m in \u001b[0;36m<module>\u001b[0;34m\u001b[0m\n\u001b[1;32m      1\u001b[0m \u001b[0mpa\u001b[0m \u001b[0;34m=\u001b[0m \u001b[0;34m[\u001b[0m\u001b[0;34m(\u001b[0m\u001b[0;34m'124'\u001b[0m\u001b[0;34m,\u001b[0m \u001b[0;32mTrue\u001b[0m\u001b[0;34m)\u001b[0m\u001b[0;34m,\u001b[0m \u001b[0;34m(\u001b[0m\u001b[0;34m'121'\u001b[0m\u001b[0;34m,\u001b[0m \u001b[0;32mFalse\u001b[0m\u001b[0;34m)\u001b[0m\u001b[0;34m,\u001b[0m \u001b[0;34m(\u001b[0m\u001b[0;34m'111'\u001b[0m\u001b[0;34m,\u001b[0m \u001b[0;32mTrue\u001b[0m\u001b[0;34m)\u001b[0m\u001b[0;34m]\u001b[0m\u001b[0;34m\u001b[0m\u001b[0;34m\u001b[0m\u001b[0m\n\u001b[1;32m      2\u001b[0m \u001b[0;34m\u001b[0m\u001b[0m\n\u001b[0;32m----> 3\u001b[0;31m \u001b[0mrow_fullness\u001b[0m \u001b[0;34m=\u001b[0m \u001b[0;34m{\u001b[0m\u001b[0mi\u001b[0m\u001b[0;34m:\u001b[0m \u001b[0mv\u001b[0m \u001b[0;32mfor\u001b[0m \u001b[0mi\u001b[0m\u001b[0;34m,\u001b[0m \u001b[0mv\u001b[0m \u001b[0;32min\u001b[0m \u001b[0menumerate\u001b[0m\u001b[0;34m(\u001b[0m\u001b[0mrow_fullness\u001b[0m\u001b[0;34m,\u001b[0m \u001b[0;36m1\u001b[0m\u001b[0;34m)\u001b[0m\u001b[0;34m}\u001b[0m\u001b[0;34m\u001b[0m\u001b[0;34m\u001b[0m\u001b[0m\n\u001b[0m",
      "\u001b[0;31mNameError\u001b[0m: name 'row_fullness' is not defined"
     ]
    }
   ],
   "source": [
    "pa = [('124', True), ('121', False), ('111', True)]\n",
    "\n",
    "row_fullness = {i: v for i, v in enumerate(row_fullness, 1)}"
   ]
  },
  {
   "cell_type": "code",
   "execution_count": 64,
   "id": "99540752",
   "metadata": {},
   "outputs": [
    {
     "data": {
      "text/plain": [
       "({1: 2, 2: 0, 3: 0, 4: 0, 5: 0, 6: 0, 7: 0, 8: 0, 9: 0},\n",
       " {1: 1, 2: 1, 3: 0, 4: 0, 5: 0, 6: 0, 7: 0, 8: 0, 9: 0})"
      ]
     },
     "execution_count": 64,
     "metadata": {},
     "output_type": "execute_result"
    }
   ],
   "source": [
    "row_assignments, col_assignments"
   ]
  },
  {
   "cell_type": "code",
   "execution_count": 65,
   "id": "942907f0",
   "metadata": {
    "scrolled": true
   },
   "outputs": [
    {
     "data": {
      "text/plain": [
       "{1: 1, 2: 2, 3: 3, 4: 4, 5: 5, 6: 6, 7: 7, 8: 8, 9: 9}"
      ]
     },
     "execution_count": 65,
     "metadata": {},
     "output_type": "execute_result"
    }
   ],
   "source": [
    "row_fullness"
   ]
  },
  {
   "cell_type": "code",
   "execution_count": 68,
   "id": "d6e00e5a",
   "metadata": {},
   "outputs": [
    {
     "data": {
      "text/plain": [
       "Counter({1: 3, 2: 2, 3: 3, 4: 4, 5: 5, 6: 6, 7: 7, 8: 8, 9: 9})"
      ]
     },
     "execution_count": 68,
     "metadata": {},
     "output_type": "execute_result"
    }
   ],
   "source": [
    "import functools\n",
    "import operator\n",
    "import collections\n",
    "\n",
    "functools.reduce(operator.add, map(collections.Counter, [row_assignments, row_fullness]))"
   ]
  },
  {
   "cell_type": "code",
   "execution_count": null,
   "id": "007bc076",
   "metadata": {},
   "outputs": [],
   "source": [
    "## Experiment takes number of runs. In each run a number of sudoku's is solved. The average backtracks and time of solving the sudoku's \n",
    "## is stored. Eventually, the average for every run is stored in d. \n",
    "\n",
    "# To change method, adjust code above\n",
    "def experiment_runs(sudoku_num, run_num):\n",
    "    avg_time = []\n",
    "    avg_bt = []\n",
    "    ex_run = []\n",
    "    run = 1\n",
    "    for i in range (0,run_num):\n",
    "        results_df = run_experiment(os.path.join(test_sats_path, 'sudoku-rules-9x9.txt'),\n",
    "        os.path.join(test_sats_path, '1000 sudokus.txt'), # 1000 sudokus, 4x4\n",
    "        sudoku_num)\n",
    "        avg_time.append(np.average(results_df.time))\n",
    "        avg_bt.append(np.average(results_df.backtracks))\n",
    "        ex_run.append(run)\n",
    "        run += 1\n",
    "    dict = {'Run with ' + str(sudoku_num) + 'setups': ex_run , 'Time': avg_time, 'Backtracks': avg_bt}\n",
    "    d = pd.DataFrame(dict)\n",
    "\n",
    "experiment_runs(10,1)"
   ]
  },
  {
   "cell_type": "code",
   "execution_count": null,
   "id": "e6531e36",
   "metadata": {},
   "outputs": [],
   "source": [
    "## Calculate the distribution of amount of givens in the test-sudoku's\n",
    "with open(os.path.join(test_sats_path, '1000 sudokus.txt')) as f:\n",
    "    amount_given = []\n",
    "    lines = f.readlines()\n",
    "    for line in lines:\n",
    "        dots = line.count('.')\n",
    "        given = 81 - dots\n",
    "        amount_given.append(given)\n",
    "    k =  dict((x, amount_given.count(x)) for x in set(amount_given))\n",
    "    print(k)\n",
    "    "
   ]
  },
  {
   "cell_type": "code",
   "execution_count": null,
   "id": "4647a9c7",
   "metadata": {},
   "outputs": [],
   "source": [
    "## Store 1 set-up example for each amount of given\n",
    "\n",
    "with open(os.path.join(test_sats_path, '1000 sudokus.txt')) as f:\n",
    "    dict_giv = {}\n",
    "    for line in f.readlines():\n",
    "        dots = line.count('.')\n",
    "        given = 81 - dots\n",
    "        dict_giv[given] = line\n",
    "    print(dict_giv)\n",
    "\n",
    "# Can we apply each method on this dict of 1 setup per amount-of-given? "
   ]
  },
  {
   "cell_type": "code",
   "execution_count": 28,
   "id": "195d1664",
   "metadata": {},
   "outputs": [
    {
     "data": {
      "image/png": "[encoded data removed]",
      "text/plain": [
       "<Figure size 432x288 with 1 Axes>"
      ]
     },
     "metadata": {
      "needs_background": "light"
     },
     "output_type": "display_data"
    }
   ],
   "source": [
    "import matplotlib.pyplot as plt\n",
    "ax1 = results_df.plot.scatter(x='backtracks',\n",
    "                      y='time',\n",
    "                      c='DarkBlue')"
   ]
  }
 ],
 "metadata": {
  "kernelspec": {
   "display_name": "Python 3",
   "language": "python",
   "name": "python3"
  },
  "language_info": {
   "codemirror_mode": {
    "name": "ipython",
    "version": 3
   },
   "file_extension": ".py",
   "mimetype": "text/x-python",
   "name": "python",
   "nbconvert_exporter": "python",
   "pygments_lexer": "ipython3",
   "version": "3.8.8"
  },
  "toc": {
   "base_numbering": 1,
   "nav_menu": {},
   "number_sections": true,
   "sideBar": true,
   "skip_h1_title": false,
   "title_cell": "Table of Contents",
   "title_sidebar": "Contents",
   "toc_cell": false,
   "toc_position": {},
   "toc_section_display": true,
   "toc_window_display": false
  }
 },
 "nbformat": 4,
 "nbformat_minor": 5
}
