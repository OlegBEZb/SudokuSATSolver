{
 "cells": [
  {
   "cell_type": "code",
   "execution_count": 1,
   "id": "07747bf7",
   "metadata": {
    "scrolled": true
   },
   "outputs": [],
   "source": [
    "from pysat.formula import CNF\n",
    "import sys\n",
    "import os\n",
    "import math"
   ]
  },
  {
   "cell_type": "code",
   "execution_count": 2,
   "id": "d8e76d96",
   "metadata": {},
   "outputs": [
    {
     "data": {
      "text/plain": [
       "'0.1.7.dev12'"
      ]
     },
     "execution_count": 2,
     "metadata": {},
     "output_type": "execute_result"
    }
   ],
   "source": [
    "import pysat\n",
    "pysat.__version__"
   ]
  },
  {
   "cell_type": "code",
   "execution_count": 3,
   "id": "7aabb6b3",
   "metadata": {},
   "outputs": [],
   "source": [
    "test_sats_path = 'test sudokus'"
   ]
  },
  {
   "cell_type": "code",
   "execution_count": 4,
   "id": "4921cf07",
   "metadata": {
    "scrolled": true
   },
   "outputs": [],
   "source": [
    "def read_DIMACS(path):\n",
    "    return CNF(from_file=path).clauses\n",
    "    \n",
    "    \n",
    "rules = read_DIMACS(os.path.join(test_sats_path, 'sudoku-rules-9x9.txt'))"
   ]
  },
  {
   "cell_type": "code",
   "execution_count": 5,
   "id": "761a9c96",
   "metadata": {},
   "outputs": [],
   "source": [
    "input_mapping = {'0':0,'1':1,'2':2,'3':3,'4':4,'5':5,'6':6,'7':7,'8':8,'9':9, 'A': 10, 'B': 11, \"C\": 12, 'D': 13, 'E': 14, 'F': 15, 'G': 16}\n",
    "\n",
    "inverse_input_mapping = {v:k for k, v in input_mapping.items()}"
   ]
  },
  {
   "cell_type": "code",
   "execution_count": 6,
   "id": "322c4474",
   "metadata": {},
   "outputs": [],
   "source": [
    "def line2DIMACS(sudoku):\n",
    "    input_len = len(sudoku)\n",
    "    table_size = int(math.pow(input_len, 0.5))\n",
    "    clause_list = []\n",
    "    for row in range(table_size):\n",
    "        for column in range(table_size):\n",
    "            current_line_index = column + table_size * row\n",
    "            cell_value = sudoku[current_line_index]\n",
    "            if cell_value != '.':\n",
    "                clause_list.append(f\"{inverse_input_mapping[row+1]}{inverse_input_mapping[column+1]}{cell_value} 0\")\n",
    "    return clause_list, table_size\n",
    "\n",
    "def line2CNF(line):\n",
    "    cnf_list, table_size = line2DIMACS(line)\n",
    "    return CNF(from_string='\\n'.join(cnf_list)).clauses, cnf_list, table_size"
   ]
  },
  {
   "cell_type": "code",
   "execution_count": 7,
   "id": "849461eb",
   "metadata": {},
   "outputs": [],
   "source": [
    "# with open(os.path.join(test_sats_path, '4x4.txt')) as f:\n",
    "with open(os.path.join(test_sats_path, '1000 sudokus.txt')) as f:\n",
    "    sudoku_list = f.readlines()"
   ]
  },
  {
   "cell_type": "code",
   "execution_count": 8,
   "id": "89dfeefc",
   "metadata": {},
   "outputs": [],
   "source": [
    "sudoku_setup_CNF, sudoku_setup_DIMACS, sudoku_size = line2CNF(sudoku_list[1])"
   ]
  },
  {
   "cell_type": "code",
   "execution_count": 9,
   "id": "08a0367a",
   "metadata": {},
   "outputs": [],
   "source": [
    "from dpll import DPLL"
   ]
  },
  {
   "cell_type": "code",
   "execution_count": 10,
   "id": "9399e12c",
   "metadata": {},
   "outputs": [],
   "source": [
    "clauses = rules + sudoku_setup_CNF\n",
    "solver = DPLL(clauses, variable_selection_method='random', verbose=0)"
   ]
  },
  {
   "cell_type": "code",
   "execution_count": 11,
   "id": "11e36759",
   "metadata": {
    "scrolled": true
   },
   "outputs": [],
   "source": [
    "# solver.variables_set"
   ]
  },
  {
   "cell_type": "code",
   "execution_count": 12,
   "id": "263191eb",
   "metadata": {},
   "outputs": [],
   "source": [
    "# solver.clauses"
   ]
  },
  {
   "cell_type": "code",
   "execution_count": 13,
   "id": "d6ef65f1",
   "metadata": {
    "scrolled": true
   },
   "outputs": [
    {
     "name": "stdout",
     "output_type": "stream",
     "text": [
      "CPU times: user 22.1 s, sys: 158 ms, total: 22.3 s\n",
      "Wall time: 22.5 s\n"
     ]
    }
   ],
   "source": [
    "%%time\n",
    "\n",
    "solution = solver.backtrack(solver.clauses, partial_assignment=[], split_literal=tuple())"
   ]
  },
  {
   "cell_type": "code",
   "execution_count": 14,
   "id": "b8534706",
   "metadata": {},
   "outputs": [
    {
     "data": {
      "text/plain": [
       "True"
      ]
     },
     "execution_count": 14,
     "metadata": {},
     "output_type": "execute_result"
    }
   ],
   "source": [
    "solution[0]"
   ]
  },
  {
   "cell_type": "code",
   "execution_count": 15,
   "id": "e2455e80",
   "metadata": {},
   "outputs": [],
   "source": [
    "def get_digit(number, n):\n",
    "    return int(number // 10**n % 10)\n",
    "\n",
    "import numpy as np\n",
    "matrix = np.zeros((sudoku_size, sudoku_size), dtype=int)\n",
    "for clause in sudoku_setup_CNF:\n",
    "    for item in clause:\n",
    "        matrix[get_digit(item, 2)-1, get_digit(item, 1)-1] = get_digit(item, 0)"
   ]
  },
  {
   "cell_type": "code",
   "execution_count": 16,
   "id": "b4c15db6",
   "metadata": {},
   "outputs": [
    {
     "name": "stdout",
     "output_type": "stream",
     "text": [
      "7  0  8  9  0  0  0  0  0  \n",
      "0  0  6  0  0  8  0  4  0  \n",
      "0  0  0  2  5  0  0  3  0  \n",
      "0  0  0  0  0  0  1  0  0  \n",
      "6  0  0  0  1  0  0  2  0  \n",
      "0  7  0  0  0  5  0  6  0  \n",
      "0  0  0  0  7  0  0  0  0  \n",
      "9  2  0  0  0  3  0  0  0  \n",
      "1  0  0  0  8  0  6  0  0  \n"
     ]
    }
   ],
   "source": [
    "def matprint(mat, fmt=\"g\"):\n",
    "    col_maxes = [max([len((\"{:\"+fmt+\"}\").format(x)) for x in col]) for col in mat.T]\n",
    "    for x in mat:\n",
    "        for i, y in enumerate(x):\n",
    "            print((\"{:\"+str(col_maxes[i])+fmt+\"}\").format(y), end=\"  \")\n",
    "        print(\"\")\n",
    "        \n",
    "matprint(matrix)"
   ]
  },
  {
   "cell_type": "code",
   "execution_count": 17,
   "id": "09760dfd",
   "metadata": {
    "scrolled": false
   },
   "outputs": [
    {
     "name": "stdout",
     "output_type": "stream",
     "text": [
      "7  3  8  9  4  1  2  5  6  \n",
      "2  5  6  7  3  8  9  4  1  \n",
      "4  1  9  2  5  6  7  3  8  \n",
      "5  8  2  6  9  4  1  7  3  \n",
      "6  9  4  3  1  7  8  2  5  \n",
      "3  7  1  8  2  5  4  6  9  \n",
      "8  6  5  4  7  9  3  1  2  \n",
      "9  2  7  1  6  3  5  8  4  \n",
      "1  4  3  5  8  2  6  9  7  \n"
     ]
    }
   ],
   "source": [
    "found_assignments = sorted(solution[1], key=lambda x: x[0])\n",
    "\n",
    "matrix = np.zeros((sudoku_size, sudoku_size), dtype=int)\n",
    "for assignment in found_assignments:\n",
    "    if assignment[1]:\n",
    "        item = assignment[0]\n",
    "        matrix[int(item[0])-1, int(item[1])-1] = int(item[2])\n",
    "        \n",
    "matprint(matrix)"
   ]
  },
  {
   "cell_type": "markdown",
   "id": "aaeff9b0",
   "metadata": {},
   "source": [
    "# Experiment"
   ]
  },
  {
   "cell_type": "code",
   "execution_count": 35,
   "id": "be8f388d",
   "metadata": {},
   "outputs": [],
   "source": [
    "import random\n",
    "random.seed(42)\n",
    "import pandas as pd"
   ]
  },
  {
   "cell_type": "code",
   "execution_count": 56,
   "id": "fc308aaa",
   "metadata": {},
   "outputs": [],
   "source": [
    "import time\n",
    "import numpy as np\n",
    "import warnings\n",
    "warnings.filterwarnings(\"ignore\", category=np.VisibleDeprecationWarning) "
   ]
  },
  {
   "cell_type": "code",
   "execution_count": 60,
   "id": "a3a90212",
   "metadata": {},
   "outputs": [],
   "source": [
    "def run_experiment(rules_path, setups_path, sudoku_num=50):\n",
    "    rules = read_DIMACS(rules_path)\n",
    "    \n",
    "    with open(setups_path) as f:\n",
    "        sudoku_list = f.readlines()\n",
    "    sudoku_sample_indices = random.sample(range(0, len(sudoku_list)), sudoku_num)\n",
    "    \n",
    "    results_df = pd.DataFrame(columns=['rules_path', 'setups_path', 'setup_index', 'sat', 'solution', 'time'])\n",
    "\n",
    "    for sudoku_index in sudoku_sample_indices:\n",
    "        sudoku = sudoku_list[sudoku_index]\n",
    "        \n",
    "        sudoku_setup_CNF, sudoku_setup_DIMACS, sudoku_size = line2CNF(sudoku)\n",
    "        \n",
    "        clauses = rules + sudoku_setup_CNF\n",
    "        solver = DPLL(clauses, variable_selection_method='random', verbose=0)\n",
    "        \n",
    "        start = time.time()\n",
    "        solution = solver.backtrack(solver.clauses, partial_assignment=[], split_literal=tuple())     \n",
    "        solution_time = time.time() - start\n",
    "        \n",
    "        results_df.loc[len(results_df), ['rules_path', 'setups_path', 'setup_index', 'sat', 'solution', 'time']] = rules_path, setups_path, sudoku_index, *solution, solution_time\n",
    "        display(results_df.tail(1))\n",
    "        \n",
    "    return results_df"
   ]
  },
  {
   "cell_type": "code",
   "execution_count": 62,
   "id": "c50335a0",
   "metadata": {
    "scrolled": true
   },
   "outputs": [
    {
     "data": {
      "text/html": [
       "<div>\n",
       "<style scoped>\n",
       "    .dataframe tbody tr th:only-of-type {\n",
       "        vertical-align: middle;\n",
       "    }\n",
       "\n",
       "    .dataframe tbody tr th {\n",
       "        vertical-align: top;\n",
       "    }\n",
       "\n",
       "    .dataframe thead th {\n",
       "        text-align: right;\n",
       "    }\n",
       "</style>\n",
       "<table border=\"1\" class=\"dataframe\">\n",
       "  <thead>\n",
       "    <tr style=\"text-align: right;\">\n",
       "      <th></th>\n",
       "      <th>rules_path</th>\n",
       "      <th>setups_path</th>\n",
       "      <th>setup_index</th>\n",
       "      <th>sat</th>\n",
       "      <th>solution</th>\n",
       "      <th>time</th>\n",
       "    </tr>\n",
       "  </thead>\n",
       "  <tbody>\n",
       "    <tr>\n",
       "      <th>0</th>\n",
       "      <td>test sudokus/sudoku-rules-9x9.txt</td>\n",
       "      <td>test sudokus/1000 sudokus.txt</td>\n",
       "      <td>634</td>\n",
       "      <td>True</td>\n",
       "      <td>[(124, True), (121, False), (122, False), (123...</td>\n",
       "      <td>27.263326</td>\n",
       "    </tr>\n",
       "  </tbody>\n",
       "</table>\n",
       "</div>"
      ],
      "text/plain": [
       "                          rules_path                    setups_path  \\\n",
       "0  test sudokus/sudoku-rules-9x9.txt  test sudokus/1000 sudokus.txt   \n",
       "\n",
       "  setup_index   sat                                           solution  \\\n",
       "0         634  True  [(124, True), (121, False), (122, False), (123...   \n",
       "\n",
       "        time  \n",
       "0  27.263326  "
      ]
     },
     "metadata": {},
     "output_type": "display_data"
    },
    {
     "data": {
      "text/html": [
       "<div>\n",
       "<style scoped>\n",
       "    .dataframe tbody tr th:only-of-type {\n",
       "        vertical-align: middle;\n",
       "    }\n",
       "\n",
       "    .dataframe tbody tr th {\n",
       "        vertical-align: top;\n",
       "    }\n",
       "\n",
       "    .dataframe thead th {\n",
       "        text-align: right;\n",
       "    }\n",
       "</style>\n",
       "<table border=\"1\" class=\"dataframe\">\n",
       "  <thead>\n",
       "    <tr style=\"text-align: right;\">\n",
       "      <th></th>\n",
       "      <th>rules_path</th>\n",
       "      <th>setups_path</th>\n",
       "      <th>setup_index</th>\n",
       "      <th>sat</th>\n",
       "      <th>solution</th>\n",
       "      <th>time</th>\n",
       "    </tr>\n",
       "  </thead>\n",
       "  <tbody>\n",
       "    <tr>\n",
       "      <th>1</th>\n",
       "      <td>test sudokus/sudoku-rules-9x9.txt</td>\n",
       "      <td>test sudokus/1000 sudokus.txt</td>\n",
       "      <td>83</td>\n",
       "      <td>True</td>\n",
       "      <td>[(118, True), (111, False), (112, False), (113...</td>\n",
       "      <td>34.89422</td>\n",
       "    </tr>\n",
       "  </tbody>\n",
       "</table>\n",
       "</div>"
      ],
      "text/plain": [
       "                          rules_path                    setups_path  \\\n",
       "1  test sudokus/sudoku-rules-9x9.txt  test sudokus/1000 sudokus.txt   \n",
       "\n",
       "  setup_index   sat                                           solution  \\\n",
       "1          83  True  [(118, True), (111, False), (112, False), (113...   \n",
       "\n",
       "       time  \n",
       "1  34.89422  "
      ]
     },
     "metadata": {},
     "output_type": "display_data"
    },
    {
     "data": {
      "text/html": [
       "<div>\n",
       "<style scoped>\n",
       "    .dataframe tbody tr th:only-of-type {\n",
       "        vertical-align: middle;\n",
       "    }\n",
       "\n",
       "    .dataframe tbody tr th {\n",
       "        vertical-align: top;\n",
       "    }\n",
       "\n",
       "    .dataframe thead th {\n",
       "        text-align: right;\n",
       "    }\n",
       "</style>\n",
       "<table border=\"1\" class=\"dataframe\">\n",
       "  <thead>\n",
       "    <tr style=\"text-align: right;\">\n",
       "      <th></th>\n",
       "      <th>rules_path</th>\n",
       "      <th>setups_path</th>\n",
       "      <th>setup_index</th>\n",
       "      <th>sat</th>\n",
       "      <th>solution</th>\n",
       "      <th>time</th>\n",
       "    </tr>\n",
       "  </thead>\n",
       "  <tbody>\n",
       "    <tr>\n",
       "      <th>2</th>\n",
       "      <td>test sudokus/sudoku-rules-9x9.txt</td>\n",
       "      <td>test sudokus/1000 sudokus.txt</td>\n",
       "      <td>429</td>\n",
       "      <td>True</td>\n",
       "      <td>[(129, True), (121, False), (122, False), (123...</td>\n",
       "      <td>27.252194</td>\n",
       "    </tr>\n",
       "  </tbody>\n",
       "</table>\n",
       "</div>"
      ],
      "text/plain": [
       "                          rules_path                    setups_path  \\\n",
       "2  test sudokus/sudoku-rules-9x9.txt  test sudokus/1000 sudokus.txt   \n",
       "\n",
       "  setup_index   sat                                           solution  \\\n",
       "2         429  True  [(129, True), (121, False), (122, False), (123...   \n",
       "\n",
       "        time  \n",
       "2  27.252194  "
      ]
     },
     "metadata": {},
     "output_type": "display_data"
    },
    {
     "data": {
      "text/html": [
       "<div>\n",
       "<style scoped>\n",
       "    .dataframe tbody tr th:only-of-type {\n",
       "        vertical-align: middle;\n",
       "    }\n",
       "\n",
       "    .dataframe tbody tr th {\n",
       "        vertical-align: top;\n",
       "    }\n",
       "\n",
       "    .dataframe thead th {\n",
       "        text-align: right;\n",
       "    }\n",
       "</style>\n",
       "<table border=\"1\" class=\"dataframe\">\n",
       "  <thead>\n",
       "    <tr style=\"text-align: right;\">\n",
       "      <th></th>\n",
       "      <th>rules_path</th>\n",
       "      <th>setups_path</th>\n",
       "      <th>setup_index</th>\n",
       "      <th>sat</th>\n",
       "      <th>solution</th>\n",
       "      <th>time</th>\n",
       "    </tr>\n",
       "  </thead>\n",
       "  <tbody>\n",
       "    <tr>\n",
       "      <th>3</th>\n",
       "      <td>test sudokus/sudoku-rules-9x9.txt</td>\n",
       "      <td>test sudokus/1000 sudokus.txt</td>\n",
       "      <td>673</td>\n",
       "      <td>True</td>\n",
       "      <td>[(115, True), (111, False), (112, False), (113...</td>\n",
       "      <td>28.723595</td>\n",
       "    </tr>\n",
       "  </tbody>\n",
       "</table>\n",
       "</div>"
      ],
      "text/plain": [
       "                          rules_path                    setups_path  \\\n",
       "3  test sudokus/sudoku-rules-9x9.txt  test sudokus/1000 sudokus.txt   \n",
       "\n",
       "  setup_index   sat                                           solution  \\\n",
       "3         673  True  [(115, True), (111, False), (112, False), (113...   \n",
       "\n",
       "        time  \n",
       "3  28.723595  "
      ]
     },
     "metadata": {},
     "output_type": "display_data"
    },
    {
     "data": {
      "text/html": [
       "<div>\n",
       "<style scoped>\n",
       "    .dataframe tbody tr th:only-of-type {\n",
       "        vertical-align: middle;\n",
       "    }\n",
       "\n",
       "    .dataframe tbody tr th {\n",
       "        vertical-align: top;\n",
       "    }\n",
       "\n",
       "    .dataframe thead th {\n",
       "        text-align: right;\n",
       "    }\n",
       "</style>\n",
       "<table border=\"1\" class=\"dataframe\">\n",
       "  <thead>\n",
       "    <tr style=\"text-align: right;\">\n",
       "      <th></th>\n",
       "      <th>rules_path</th>\n",
       "      <th>setups_path</th>\n",
       "      <th>setup_index</th>\n",
       "      <th>sat</th>\n",
       "      <th>solution</th>\n",
       "      <th>time</th>\n",
       "    </tr>\n",
       "  </thead>\n",
       "  <tbody>\n",
       "    <tr>\n",
       "      <th>4</th>\n",
       "      <td>test sudokus/sudoku-rules-9x9.txt</td>\n",
       "      <td>test sudokus/1000 sudokus.txt</td>\n",
       "      <td>597</td>\n",
       "      <td>True</td>\n",
       "      <td>[(119, True), (111, False), (112, False), (113...</td>\n",
       "      <td>32.438397</td>\n",
       "    </tr>\n",
       "  </tbody>\n",
       "</table>\n",
       "</div>"
      ],
      "text/plain": [
       "                          rules_path                    setups_path  \\\n",
       "4  test sudokus/sudoku-rules-9x9.txt  test sudokus/1000 sudokus.txt   \n",
       "\n",
       "  setup_index   sat                                           solution  \\\n",
       "4         597  True  [(119, True), (111, False), (112, False), (113...   \n",
       "\n",
       "        time  \n",
       "4  32.438397  "
      ]
     },
     "metadata": {},
     "output_type": "display_data"
    },
    {
     "data": {
      "text/html": [
       "<div>\n",
       "<style scoped>\n",
       "    .dataframe tbody tr th:only-of-type {\n",
       "        vertical-align: middle;\n",
       "    }\n",
       "\n",
       "    .dataframe tbody tr th {\n",
       "        vertical-align: top;\n",
       "    }\n",
       "\n",
       "    .dataframe thead th {\n",
       "        text-align: right;\n",
       "    }\n",
       "</style>\n",
       "<table border=\"1\" class=\"dataframe\">\n",
       "  <thead>\n",
       "    <tr style=\"text-align: right;\">\n",
       "      <th></th>\n",
       "      <th>rules_path</th>\n",
       "      <th>setups_path</th>\n",
       "      <th>setup_index</th>\n",
       "      <th>sat</th>\n",
       "      <th>solution</th>\n",
       "      <th>time</th>\n",
       "    </tr>\n",
       "  </thead>\n",
       "  <tbody>\n",
       "    <tr>\n",
       "      <th>5</th>\n",
       "      <td>test sudokus/sudoku-rules-9x9.txt</td>\n",
       "      <td>test sudokus/1000 sudokus.txt</td>\n",
       "      <td>578</td>\n",
       "      <td>True</td>\n",
       "      <td>[(132, True), (131, False), (133, False), (134...</td>\n",
       "      <td>31.983585</td>\n",
       "    </tr>\n",
       "  </tbody>\n",
       "</table>\n",
       "</div>"
      ],
      "text/plain": [
       "                          rules_path                    setups_path  \\\n",
       "5  test sudokus/sudoku-rules-9x9.txt  test sudokus/1000 sudokus.txt   \n",
       "\n",
       "  setup_index   sat                                           solution  \\\n",
       "5         578  True  [(132, True), (131, False), (133, False), (134...   \n",
       "\n",
       "        time  \n",
       "5  31.983585  "
      ]
     },
     "metadata": {},
     "output_type": "display_data"
    },
    {
     "data": {
      "text/html": [
       "<div>\n",
       "<style scoped>\n",
       "    .dataframe tbody tr th:only-of-type {\n",
       "        vertical-align: middle;\n",
       "    }\n",
       "\n",
       "    .dataframe tbody tr th {\n",
       "        vertical-align: top;\n",
       "    }\n",
       "\n",
       "    .dataframe thead th {\n",
       "        text-align: right;\n",
       "    }\n",
       "</style>\n",
       "<table border=\"1\" class=\"dataframe\">\n",
       "  <thead>\n",
       "    <tr style=\"text-align: right;\">\n",
       "      <th></th>\n",
       "      <th>rules_path</th>\n",
       "      <th>setups_path</th>\n",
       "      <th>setup_index</th>\n",
       "      <th>sat</th>\n",
       "      <th>solution</th>\n",
       "      <th>time</th>\n",
       "    </tr>\n",
       "  </thead>\n",
       "  <tbody>\n",
       "    <tr>\n",
       "      <th>6</th>\n",
       "      <td>test sudokus/sudoku-rules-9x9.txt</td>\n",
       "      <td>test sudokus/1000 sudokus.txt</td>\n",
       "      <td>535</td>\n",
       "      <td>True</td>\n",
       "      <td>[(115, True), (111, False), (112, False), (113...</td>\n",
       "      <td>36.344936</td>\n",
       "    </tr>\n",
       "  </tbody>\n",
       "</table>\n",
       "</div>"
      ],
      "text/plain": [
       "                          rules_path                    setups_path  \\\n",
       "6  test sudokus/sudoku-rules-9x9.txt  test sudokus/1000 sudokus.txt   \n",
       "\n",
       "  setup_index   sat                                           solution  \\\n",
       "6         535  True  [(115, True), (111, False), (112, False), (113...   \n",
       "\n",
       "        time  \n",
       "6  36.344936  "
      ]
     },
     "metadata": {},
     "output_type": "display_data"
    },
    {
     "data": {
      "text/html": [
       "<div>\n",
       "<style scoped>\n",
       "    .dataframe tbody tr th:only-of-type {\n",
       "        vertical-align: middle;\n",
       "    }\n",
       "\n",
       "    .dataframe tbody tr th {\n",
       "        vertical-align: top;\n",
       "    }\n",
       "\n",
       "    .dataframe thead th {\n",
       "        text-align: right;\n",
       "    }\n",
       "</style>\n",
       "<table border=\"1\" class=\"dataframe\">\n",
       "  <thead>\n",
       "    <tr style=\"text-align: right;\">\n",
       "      <th></th>\n",
       "      <th>rules_path</th>\n",
       "      <th>setups_path</th>\n",
       "      <th>setup_index</th>\n",
       "      <th>sat</th>\n",
       "      <th>solution</th>\n",
       "      <th>time</th>\n",
       "    </tr>\n",
       "  </thead>\n",
       "  <tbody>\n",
       "    <tr>\n",
       "      <th>7</th>\n",
       "      <td>test sudokus/sudoku-rules-9x9.txt</td>\n",
       "      <td>test sudokus/1000 sudokus.txt</td>\n",
       "      <td>323</td>\n",
       "      <td>True</td>\n",
       "      <td>[(216, True), (211, False), (212, False), (213...</td>\n",
       "      <td>33.584052</td>\n",
       "    </tr>\n",
       "  </tbody>\n",
       "</table>\n",
       "</div>"
      ],
      "text/plain": [
       "                          rules_path                    setups_path  \\\n",
       "7  test sudokus/sudoku-rules-9x9.txt  test sudokus/1000 sudokus.txt   \n",
       "\n",
       "  setup_index   sat                                           solution  \\\n",
       "7         323  True  [(216, True), (211, False), (212, False), (213...   \n",
       "\n",
       "        time  \n",
       "7  33.584052  "
      ]
     },
     "metadata": {},
     "output_type": "display_data"
    },
    {
     "data": {
      "text/html": [
       "<div>\n",
       "<style scoped>\n",
       "    .dataframe tbody tr th:only-of-type {\n",
       "        vertical-align: middle;\n",
       "    }\n",
       "\n",
       "    .dataframe tbody tr th {\n",
       "        vertical-align: top;\n",
       "    }\n",
       "\n",
       "    .dataframe thead th {\n",
       "        text-align: right;\n",
       "    }\n",
       "</style>\n",
       "<table border=\"1\" class=\"dataframe\">\n",
       "  <thead>\n",
       "    <tr style=\"text-align: right;\">\n",
       "      <th></th>\n",
       "      <th>rules_path</th>\n",
       "      <th>setups_path</th>\n",
       "      <th>setup_index</th>\n",
       "      <th>sat</th>\n",
       "      <th>solution</th>\n",
       "      <th>time</th>\n",
       "    </tr>\n",
       "  </thead>\n",
       "  <tbody>\n",
       "    <tr>\n",
       "      <th>8</th>\n",
       "      <td>test sudokus/sudoku-rules-9x9.txt</td>\n",
       "      <td>test sudokus/1000 sudokus.txt</td>\n",
       "      <td>957</td>\n",
       "      <td>True</td>\n",
       "      <td>[(134, True), (131, False), (132, False), (133...</td>\n",
       "      <td>32.794243</td>\n",
       "    </tr>\n",
       "  </tbody>\n",
       "</table>\n",
       "</div>"
      ],
      "text/plain": [
       "                          rules_path                    setups_path  \\\n",
       "8  test sudokus/sudoku-rules-9x9.txt  test sudokus/1000 sudokus.txt   \n",
       "\n",
       "  setup_index   sat                                           solution  \\\n",
       "8         957  True  [(134, True), (131, False), (132, False), (133...   \n",
       "\n",
       "        time  \n",
       "8  32.794243  "
      ]
     },
     "metadata": {},
     "output_type": "display_data"
    },
    {
     "data": {
      "text/html": [
       "<div>\n",
       "<style scoped>\n",
       "    .dataframe tbody tr th:only-of-type {\n",
       "        vertical-align: middle;\n",
       "    }\n",
       "\n",
       "    .dataframe tbody tr th {\n",
       "        vertical-align: top;\n",
       "    }\n",
       "\n",
       "    .dataframe thead th {\n",
       "        text-align: right;\n",
       "    }\n",
       "</style>\n",
       "<table border=\"1\" class=\"dataframe\">\n",
       "  <thead>\n",
       "    <tr style=\"text-align: right;\">\n",
       "      <th></th>\n",
       "      <th>rules_path</th>\n",
       "      <th>setups_path</th>\n",
       "      <th>setup_index</th>\n",
       "      <th>sat</th>\n",
       "      <th>solution</th>\n",
       "      <th>time</th>\n",
       "    </tr>\n",
       "  </thead>\n",
       "  <tbody>\n",
       "    <tr>\n",
       "      <th>9</th>\n",
       "      <td>test sudokus/sudoku-rules-9x9.txt</td>\n",
       "      <td>test sudokus/1000 sudokus.txt</td>\n",
       "      <td>267</td>\n",
       "      <td>True</td>\n",
       "      <td>[(143, True), (141, False), (142, False), (144...</td>\n",
       "      <td>31.606429</td>\n",
       "    </tr>\n",
       "  </tbody>\n",
       "</table>\n",
       "</div>"
      ],
      "text/plain": [
       "                          rules_path                    setups_path  \\\n",
       "9  test sudokus/sudoku-rules-9x9.txt  test sudokus/1000 sudokus.txt   \n",
       "\n",
       "  setup_index   sat                                           solution  \\\n",
       "9         267  True  [(143, True), (141, False), (142, False), (144...   \n",
       "\n",
       "        time  \n",
       "9  31.606429  "
      ]
     },
     "metadata": {},
     "output_type": "display_data"
    }
   ],
   "source": [
    "results_df = run_experiment(os.path.join(test_sats_path, 'sudoku-rules-9x9.txt'),\n",
    "                            os.path.join(test_sats_path, '1000 sudokus.txt'), # 1000 sudokus, 4x4\n",
    "                            sudoku_num=10,\n",
    "              )"
   ]
  },
  {
   "cell_type": "code",
   "execution_count": 63,
   "id": "08eb4d5e",
   "metadata": {},
   "outputs": [],
   "source": [
    "results_df.to_csv(\"10_launches_size_9.csv\", index=False)"
   ]
  },
  {
   "cell_type": "code",
   "execution_count": 65,
   "id": "0ecbb7cc",
   "metadata": {},
   "outputs": [
    {
     "name": "stdout",
     "output_type": "stream",
     "text": [
      "recur 5\n",
      "recur 4\n",
      "recur 3\n",
      "recur 2\n",
      "recur 1\n",
      "recur 0\n"
     ]
    },
    {
     "data": {
      "text/plain": [
       "0"
      ]
     },
     "execution_count": 65,
     "metadata": {},
     "output_type": "execute_result"
    }
   ],
   "source": [
    "class Counter(object) :\n",
    "    def __init__(self, fun) :\n",
    "        self._fun = fun\n",
    "        self.counter=0\n",
    "    def __call__(self,*args, **kwargs) :\n",
    "        self.counter += 1\n",
    "        return self._fun(*args, **kwargs)\n",
    "    \n",
    "def recur(n) :\n",
    "    print('recur', n)\n",
    "    if n>0 :\n",
    "        return recur(n-1)\n",
    "    return 0\n",
    "\n",
    "recur = Counter(recur)\n",
    "\n",
    "recur(5)"
   ]
  },
  {
   "cell_type": "code",
   "execution_count": 66,
   "id": "41619cd9",
   "metadata": {},
   "outputs": [
    {
     "data": {
      "text/plain": [
       "6"
      ]
     },
     "execution_count": 66,
     "metadata": {},
     "output_type": "execute_result"
    }
   ],
   "source": [
    "recur.counter"
   ]
  },
  {
   "cell_type": "code",
   "execution_count": 67,
   "id": "9d03360c",
   "metadata": {},
   "outputs": [],
   "source": [
    "@Counter\n",
    "def recur2(n):\n",
    "    print('recur', n)\n",
    "    if n>0 :\n",
    "        return recur(n-1)\n",
    "    return 0"
   ]
  },
  {
   "cell_type": "code",
   "execution_count": 68,
   "id": "74fce5d9",
   "metadata": {},
   "outputs": [
    {
     "name": "stdout",
     "output_type": "stream",
     "text": [
      "recur 5\n",
      "recur 4\n",
      "recur 3\n",
      "recur 2\n",
      "recur 1\n",
      "recur 0\n"
     ]
    },
    {
     "data": {
      "text/plain": [
       "0"
      ]
     },
     "execution_count": 68,
     "metadata": {},
     "output_type": "execute_result"
    }
   ],
   "source": [
    "recur2(5)"
   ]
  },
  {
   "cell_type": "code",
   "execution_count": null,
   "id": "6b006713",
   "metadata": {},
   "outputs": [],
   "source": [
    "recur2.c"
   ]
  }
 ],
 "metadata": {
  "kernelspec": {
   "display_name": "Python 3",
   "language": "python",
   "name": "python3"
  },
  "language_info": {
   "codemirror_mode": {
    "name": "ipython",
    "version": 3
   },
   "file_extension": ".py",
   "mimetype": "text/x-python",
   "name": "python",
   "nbconvert_exporter": "python",
   "pygments_lexer": "ipython3",
   "version": "3.8.8"
  }
 },
 "nbformat": 4,
 "nbformat_minor": 5
}
