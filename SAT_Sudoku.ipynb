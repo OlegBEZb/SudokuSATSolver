{
 "cells": [
  {
   "cell_type": "code",
   "execution_count": 25,
   "id": "07747bf7",
   "metadata": {
    "scrolled": true
   },
   "outputs": [],
   "source": [
    "from pysat.formula import CNF\n",
    "import sys\n",
    "import os\n",
    "import math"
   ]
  },
  {
   "cell_type": "code",
   "execution_count": 26,
   "id": "d8e76d96",
   "metadata": {},
   "outputs": [
    {
     "data": {
      "text/plain": [
       "'0.1.7.dev12'"
      ]
     },
     "execution_count": 26,
     "metadata": {},
     "output_type": "execute_result"
    }
   ],
   "source": [
    "import pysat\n",
    "pysat.__version__"
   ]
  },
  {
   "cell_type": "code",
   "execution_count": 27,
   "id": "7aabb6b3",
   "metadata": {},
   "outputs": [],
   "source": [
    "test_sats_path = 'test sudokus'"
   ]
  },
  {
   "cell_type": "code",
   "execution_count": 28,
   "id": "4921cf07",
   "metadata": {
    "scrolled": true
   },
   "outputs": [
    {
     "data": {
      "text/plain": [
       "[[111, 112, 113, 114],\n",
       " [-111, -112],\n",
       " [-111, -113],\n",
       " [-111, -114],\n",
       " [-112, -113],\n",
       " [-112, -114],\n",
       " [-113, -114],\n",
       " [121, 122, 123, 124],\n",
       " [-121, -122],\n",
       " [-121, -123]]"
      ]
     },
     "execution_count": 28,
     "metadata": {},
     "output_type": "execute_result"
    }
   ],
   "source": [
    "def read_DIMACS(path):\n",
    "    return CNF(from_file=path).clauses\n",
    "    \n",
    "    \n",
    "rules = read_DIMACS(os.path.join(test_sats_path, 'sudoku-rules-4x4.txt'))\n",
    "rules[:10]"
   ]
  },
  {
   "cell_type": "code",
   "execution_count": 29,
   "id": "761a9c96",
   "metadata": {},
   "outputs": [
    {
     "data": {
      "text/plain": [
       "{0: '0',\n",
       " 1: '1',\n",
       " 2: '2',\n",
       " 3: '3',\n",
       " 4: '4',\n",
       " 5: '5',\n",
       " 6: '6',\n",
       " 7: '7',\n",
       " 8: '8',\n",
       " 9: '9',\n",
       " 10: 'A',\n",
       " 11: 'B',\n",
       " 12: 'C',\n",
       " 13: 'D',\n",
       " 14: 'E',\n",
       " 15: 'F',\n",
       " 16: 'G'}"
      ]
     },
     "execution_count": 29,
     "metadata": {},
     "output_type": "execute_result"
    }
   ],
   "source": [
    "input_mapping = {'0':0,'1':1,'2':2,'3':3,'4':4,'5':5,'6':6,'7':7,'8':8,'9':9, 'A': 10, 'B': 11, \"C\": 12, 'D': 13, 'E': 14, 'F': 15, 'G': 16}\n",
    "\n",
    "inverse_input_mapping = {v:k for k, v in input_mapping.items()}\n",
    "inverse_input_mapping"
   ]
  },
  {
   "cell_type": "code",
   "execution_count": 30,
   "id": "322c4474",
   "metadata": {},
   "outputs": [],
   "source": [
    "def line2DIMACS(sudoku):\n",
    "    input_len = len(sudoku)\n",
    "    table_size = int(math.pow(input_len, 0.5))\n",
    "    clause_list = []\n",
    "    for row in range(table_size):\n",
    "        for column in range(table_size):\n",
    "            current_line_index = column + table_size * row\n",
    "            cell_value = sudoku[current_line_index]\n",
    "            if cell_value != '.':\n",
    "                clause_list.append(f\"{inverse_input_mapping[row+1]}{inverse_input_mapping[column+1]}{cell_value} 0\")\n",
    "    return clause_list, table_size\n",
    "\n",
    "def line2CNF(line):\n",
    "    cnf_list, table_size = line2DIMACS(line)\n",
    "    return CNF(from_string='\\n'.join(cnf_list)).clauses, cnf_list, table_size"
   ]
  },
  {
   "cell_type": "code",
   "execution_count": 31,
   "id": "849461eb",
   "metadata": {},
   "outputs": [],
   "source": [
    "with open(os.path.join(test_sats_path, '4x4.txt')) as f:\n",
    "#with open(os.path.join(test_sats_path, '1000 sudokus.txt')) as f:\n",
    "    sudoku_list = f.readlines()"
   ]
  },
  {
   "cell_type": "code",
   "execution_count": 32,
   "id": "08a0367a",
   "metadata": {},
   "outputs": [],
   "source": [
    "from dpll import DPLL"
   ]
  },
  {
   "cell_type": "code",
   "execution_count": 34,
   "id": "9399e12c",
   "metadata": {},
   "outputs": [
    {
     "name": "stdout",
     "output_type": "stream",
     "text": [
      "[[111, 112, 113, 114], [-111, -112], [-111, -113], [-111, -114], [-112, -113], [-112, -114], [-113, -114], [121, 122, 123, 124], [-121, -122], [-121, -123], [-121, -124], [-122, -123], [-122, -124], [-123, -124], [131, 132, 133, 134], [-131, -132], [-131, -133], [-131, -134], [-132, -133], [-132, -134], [-133, -134], [141, 142, 143, 144], [-141, -142], [-141, -143], [-141, -144], [-142, -143], [-142, -144], [-143, -144], [211, 212, 213, 214], [-211, -212], [-211, -213], [-211, -214], [-212, -213], [-212, -214], [-213, -214], [221, 222, 223, 224], [-221, -222], [-221, -223], [-221, -224], [-222, -223], [-222, -224], [-223, -224], [231, 232, 233, 234], [-231, -232], [-231, -233], [-231, -234], [-232, -233], [-232, -234], [-233, -234], [241, 242, 243, 244], [-241, -242], [-241, -243], [-241, -244], [-242, -243], [-242, -244], [-243, -244], [311, 312, 313, 314], [-311, -312], [-311, -313], [-311, -314], [-312, -313], [-312, -314], [-313, -314], [321, 322, 323, 324], [-321, -322], [-321, -323], [-321, -324], [-322, -323], [-322, -324], [-323, -324], [331, 332, 333, 334], [-331, -332], [-331, -333], [-331, -334], [-332, -333], [-332, -334], [-333, -334], [341, 342, 343, 344], [-341, -342], [-341, -343], [-341, -344], [-342, -343], [-342, -344], [-343, -344], [411, 412, 413, 414], [-411, -412], [-411, -413], [-411, -414], [-412, -413], [-412, -414], [-413, -414], [421, 422, 423, 424], [-421, -422], [-421, -423], [-421, -424], [-422, -423], [-422, -424], [-423, -424], [431, 432, 433, 434], [-431, -432], [-431, -433], [-431, -434], [-432, -433], [-432, -434], [-433, -434], [441, 442, 443, 444], [-441, -442], [-441, -443], [-441, -444], [-442, -443], [-442, -444], [-443, -444], [111, 121, 211, 221], [-111, -121], [-111, -211], [-111, -221], [-121, -211], [-121, -221], [-211, -221], [112, 122, 212, 222], [-112, -122], [-112, -212], [-112, -222], [-122, -212], [-122, -222], [-212, -222], [113, 123, 213, 223], [-113, -123], [-113, -213], [-113, -223], [-123, -213], [-123, -223], [-213, -223], [114, 124, 214, 224], [-114, -124], [-114, -214], [-114, -224], [-124, -214], [-124, -224], [-214, -224], [131, 141, 231, 241], [-131, -141], [-131, -231], [-131, -241], [-141, -231], [-141, -241], [-231, -241], [132, 142, 232, 242], [-132, -142], [-132, -232], [-132, -242], [-142, -232], [-142, -242], [-232, -242], [133, 143, 233, 243], [-133, -143], [-133, -233], [-133, -243], [-143, -233], [-143, -243], [-233, -243], [134, 144, 234, 244], [-134, -144], [-134, -234], [-134, -244], [-144, -234], [-144, -244], [-234, -244], [311, 321, 411, 421], [-311, -321], [-311, -411], [-311, -421], [-321, -411], [-321, -421], [-411, -421], [312, 322, 412, 422], [-312, -322], [-312, -412], [-312, -422], [-322, -412], [-322, -422], [-412, -422], [313, 323, 413, 423], [-313, -323], [-313, -413], [-313, -423], [-323, -413], [-323, -423], [-413, -423], [314, 324, 414, 424], [-314, -324], [-314, -414], [-314, -424], [-324, -414], [-324, -424], [-414, -424], [331, 341, 431, 441], [-331, -341], [-331, -431], [-331, -441], [-341, -431], [-341, -441], [-431, -441], [332, 342, 432, 442], [-332, -342], [-332, -432], [-332, -442], [-342, -432], [-342, -442], [-432, -442], [333, 343, 433, 443], [-333, -343], [-333, -433], [-333, -443], [-343, -433], [-343, -443], [-433, -443], [334, 344, 434, 444], [-334, -344], [-334, -434], [-334, -444], [-344, -434], [-344, -444], [-434, -444], [111, 121, 131, 141], [-111, -121], [-111, -131], [-111, -141], [-121, -131], [-121, -141], [-131, -141], [112, 122, 132, 142], [-112, -122], [-112, -132], [-112, -142], [-122, -132], [-122, -142], [-132, -142], [113, 123, 133, 143], [-113, -123], [-113, -133], [-113, -143], [-123, -133], [-123, -143], [-133, -143], [114, 124, 134, 144], [-114, -124], [-114, -134], [-114, -144], [-124, -134], [-124, -144], [-134, -144], [211, 221, 231, 241], [-211, -221], [-211, -231], [-211, -241], [-221, -231], [-221, -241], [-231, -241], [212, 222, 232, 242], [-212, -222], [-212, -232], [-212, -242], [-222, -232], [-222, -242], [-232, -242], [213, 223, 233, 243], [-213, -223], [-213, -233], [-213, -243], [-223, -233], [-223, -243], [-233, -243], [214, 224, 234, 244], [-214, -224], [-214, -234], [-214, -244], [-224, -234], [-224, -244], [-234, -244], [311, 321, 331, 341], [-311, -321], [-311, -331], [-311, -341], [-321, -331], [-321, -341], [-331, -341], [312, 322, 332, 342], [-312, -322], [-312, -332], [-312, -342], [-322, -332], [-322, -342], [-332, -342], [313, 323, 333, 343], [-313, -323], [-313, -333], [-313, -343], [-323, -333], [-323, -343], [-333, -343], [314, 324, 334, 344], [-314, -324], [-314, -334], [-314, -344], [-324, -334], [-324, -344], [-334, -344], [411, 421, 431, 441], [-411, -421], [-411, -431], [-411, -441], [-421, -431], [-421, -441], [-431, -441], [412, 422, 432, 442], [-412, -422], [-412, -432], [-412, -442], [-422, -432], [-422, -442], [-432, -442], [413, 423, 433, 443], [-413, -423], [-413, -433], [-413, -443], [-423, -433], [-423, -443], [-433, -443], [414, 424, 434, 444], [-414, -424], [-414, -434], [-414, -444], [-424, -434], [-424, -444], [-434, -444], [111, 211, 311, 411], [-111, -211], [-111, -311], [-111, -411], [-211, -311], [-211, -411], [-311, -411], [112, 212, 312, 412], [-112, -212], [-112, -312], [-112, -412], [-212, -312], [-212, -412], [-312, -412], [113, 213, 313, 413], [-113, -213], [-113, -313], [-113, -413], [-213, -313], [-213, -413], [-313, -413], [114, 214, 314, 414], [-114, -214], [-114, -314], [-114, -414], [-214, -314], [-214, -414], [-314, -414], [121, 221, 321, 421], [-121, -221], [-121, -321], [-121, -421], [-221, -321], [-221, -421], [-321, -421], [122, 222, 322, 422], [-122, -222], [-122, -322], [-122, -422], [-222, -322], [-222, -422], [-322, -422], [123, 223, 323, 423], [-123, -223], [-123, -323], [-123, -423], [-223, -323], [-223, -423], [-323, -423], [124, 224, 324, 424], [-124, -224], [-124, -324], [-124, -424], [-224, -324], [-224, -424], [-324, -424], [131, 231, 331, 431], [-131, -231], [-131, -331], [-131, -431], [-231, -331], [-231, -431], [-331, -431], [132, 232, 332, 432], [-132, -232], [-132, -332], [-132, -432], [-232, -332], [-232, -432], [-332, -432], [133, 233, 333, 433], [-133, -233], [-133, -333], [-133, -433], [-233, -333], [-233, -433], [-333, -433], [134, 234, 334, 434], [-134, -234], [-134, -334], [-134, -434], [-234, -334], [-234, -434], [-334, -434], [141, 241, 341, 441], [-141, -241], [-141, -341], [-141, -441], [-241, -341], [-241, -441], [-341, -441], [142, 242, 342, 442], [-142, -242], [-142, -342], [-142, -442], [-242, -342], [-242, -442], [-342, -442], [143, 243, 343, 443], [-143, -243], [-143, -343], [-143, -443], [-243, -343], [-243, -443], [-343, -443], [144, 244, 344, 444], [-144, -244], [-144, -344], [-144, -444], [-244, -344], [-244, -444], [-344, -444]]\n",
      "[[122], [231], [324], [433]]\n"
     ]
    }
   ],
   "source": [
    "sudoku_setup_CNF,cnflist,table_size = line2CNF(sudoku_list[7])\n",
    "print(rules)\n",
    "print(sudoku_setup_CNF)\n",
    "clauses = rules + sudoku_setup_CNF\n",
    "# clauses = [[1,2], [1], [-3]]\n",
    "\n",
    "solver = DPLL(clauses, variable_selection_method='random', verbose=1)"
   ]
  },
  {
   "cell_type": "code",
   "execution_count": 10,
   "id": "11e36759",
   "metadata": {
    "scrolled": true
   },
   "outputs": [],
   "source": [
    "# solver.variables_set"
   ]
  },
  {
   "cell_type": "code",
   "execution_count": 11,
   "id": "263191eb",
   "metadata": {},
   "outputs": [],
   "source": [
    "# solver.clauses"
   ]
  },
  {
   "cell_type": "code",
   "execution_count": 12,
   "id": "d6ef65f1",
   "metadata": {
    "scrolled": true
   },
   "outputs": [
    {
     "name": "stdout",
     "output_type": "stream",
     "text": [
      "Wall time: 5min 1s\n"
     ]
    }
   ],
   "source": [
    "%%time\n",
    "\n",
    "solution = solver.backtrack(solver.clauses, partial_assignment=[], split_literal=tuple())"
   ]
  },
  {
   "cell_type": "code",
   "execution_count": 23,
   "id": "e8e34eb8",
   "metadata": {
    "scrolled": true
   },
   "outputs": [
    {
     "data": {
      "text/plain": [
       "[[122], [231], [324], [433]]"
      ]
     },
     "execution_count": 23,
     "metadata": {},
     "output_type": "execute_result"
    }
   ],
   "source": [
    "#solution\n",
    "sudoku_setup_CNF"
   ]
  },
  {
   "cell_type": "code",
   "execution_count": 20,
   "id": "e2455e80",
   "metadata": {},
   "outputs": [
    {
     "ename": "NameError",
     "evalue": "name 'sudoku_size' is not defined",
     "output_type": "error",
     "traceback": [
      "\u001b[1;31m---------------------------------------------------------------------------\u001b[0m",
      "\u001b[1;31mNameError\u001b[0m                                 Traceback (most recent call last)",
      "\u001b[1;32m~\\AppData\\Local\\Temp/ipykernel_19228/3981061905.py\u001b[0m in \u001b[0;36m<module>\u001b[1;34m\u001b[0m\n\u001b[0;32m      3\u001b[0m \u001b[1;33m\u001b[0m\u001b[0m\n\u001b[0;32m      4\u001b[0m \u001b[1;32mimport\u001b[0m \u001b[0mnumpy\u001b[0m \u001b[1;32mas\u001b[0m \u001b[0mnp\u001b[0m\u001b[1;33m\u001b[0m\u001b[1;33m\u001b[0m\u001b[0m\n\u001b[1;32m----> 5\u001b[1;33m \u001b[0mmatrix\u001b[0m \u001b[1;33m=\u001b[0m \u001b[0mnp\u001b[0m\u001b[1;33m.\u001b[0m\u001b[0mzeros\u001b[0m\u001b[1;33m(\u001b[0m\u001b[1;33m(\u001b[0m\u001b[0msudoku_size\u001b[0m\u001b[1;33m,\u001b[0m \u001b[0msudoku_size\u001b[0m\u001b[1;33m)\u001b[0m\u001b[1;33m,\u001b[0m \u001b[0mdtype\u001b[0m\u001b[1;33m=\u001b[0m\u001b[0mint\u001b[0m\u001b[1;33m)\u001b[0m\u001b[1;33m\u001b[0m\u001b[1;33m\u001b[0m\u001b[0m\n\u001b[0m\u001b[0;32m      6\u001b[0m \u001b[1;32mfor\u001b[0m \u001b[0mclause\u001b[0m \u001b[1;32min\u001b[0m \u001b[0msudoku_setup_CNF\u001b[0m\u001b[1;33m:\u001b[0m\u001b[1;33m\u001b[0m\u001b[1;33m\u001b[0m\u001b[0m\n\u001b[0;32m      7\u001b[0m     \u001b[1;32mfor\u001b[0m \u001b[0mitem\u001b[0m \u001b[1;32min\u001b[0m \u001b[0mclause\u001b[0m\u001b[1;33m:\u001b[0m\u001b[1;33m\u001b[0m\u001b[1;33m\u001b[0m\u001b[0m\n",
      "\u001b[1;31mNameError\u001b[0m: name 'sudoku_size' is not defined"
     ]
    }
   ],
   "source": [
    "def get_digit(number, n):\n",
    "    return int(number // 10**n % 10)\n",
    "\n",
    "import numpy as np\n",
    "matrix = np.zeros((sudoku_size, sudoku_size), dtype=int)\n",
    "for clause in sudoku_setup_CNF:\n",
    "    for item in clause:\n",
    "        matrix[get_digit(item, 2)-1, get_digit(item, 1)-1] = get_digit(item, 0)\n",
    "\n"
   ]
  },
  {
   "cell_type": "code",
   "execution_count": null,
   "id": "b4c15db6",
   "metadata": {},
   "outputs": [],
   "source": [
    "def matprint(mat, fmt=\"g\"):\n",
    "    col_maxes = [max([len((\"{:\"+fmt+\"}\").format(x)) for x in col]) for col in mat.T]\n",
    "    for x in mat:\n",
    "        for i, y in enumerate(x):\n",
    "            print((\"{:\"+str(col_maxes[i])+fmt+\"}\").format(y), end=\"  \")\n",
    "        print(\"\")\n",
    "        \n",
    "matprint(matrix)"
   ]
  },
  {
   "cell_type": "code",
   "execution_count": null,
   "id": "09760dfd",
   "metadata": {
    "scrolled": false
   },
   "outputs": [],
   "source": [
    "found_assignments = sorted(solution[1], key=lambda x: x[0])\n",
    "\n",
    "matrix = np.zeros((sudoku_size, sudoku_size), dtype=int)\n",
    "for assignment in found_assignments:\n",
    "    if assignment[1]:\n",
    "        item = assignment[0]\n",
    "        matrix[int(item[0])-1, int(item[1])-1] = int(item[2])\n",
    "        \n",
    "matprint(matrix)"
   ]
  },
  {
   "cell_type": "code",
   "execution_count": 24,
   "id": "9f11e79c",
   "metadata": {},
   "outputs": [
    {
     "ename": "NameError",
     "evalue": "name 'new_clauses' is not defined",
     "output_type": "error",
     "traceback": [
      "\u001b[1;31m---------------------------------------------------------------------------\u001b[0m",
      "\u001b[1;31mNameError\u001b[0m                                 Traceback (most recent call last)",
      "\u001b[1;32m~\\AppData\\Local\\Temp/ipykernel_19228/1292614757.py\u001b[0m in \u001b[0;36m<module>\u001b[1;34m\u001b[0m\n\u001b[0;32m      1\u001b[0m \u001b[1;32mfor\u001b[0m \u001b[0mclause\u001b[0m \u001b[1;32min\u001b[0m \u001b[0mclauses\u001b[0m\u001b[1;33m:\u001b[0m\u001b[1;33m\u001b[0m\u001b[1;33m\u001b[0m\u001b[0m\n\u001b[0;32m      2\u001b[0m     \u001b[1;32mif\u001b[0m \u001b[0mlen\u001b[0m\u001b[1;33m(\u001b[0m\u001b[0mclause\u001b[0m\u001b[1;33m)\u001b[0m \u001b[1;33m==\u001b[0m \u001b[1;36m1\u001b[0m\u001b[1;33m:\u001b[0m\u001b[1;33m\u001b[0m\u001b[1;33m\u001b[0m\u001b[0m\n\u001b[1;32m----> 3\u001b[1;33m         \u001b[0mnew_clauses\u001b[0m \u001b[1;33m=\u001b[0m \u001b[1;33m[\u001b[0m\u001b[1;33m[\u001b[0m\u001b[0mel\u001b[0m \u001b[1;32mfor\u001b[0m \u001b[0mel\u001b[0m \u001b[1;32min\u001b[0m \u001b[0mc\u001b[0m \u001b[1;32mif\u001b[0m \u001b[0mel\u001b[0m \u001b[1;33m!=\u001b[0m \u001b[0mDPLL\u001b[0m\u001b[1;33m.\u001b[0m\u001b[0mneg\u001b[0m\u001b[1;33m(\u001b[0m\u001b[0mclause\u001b[0m\u001b[1;33m[\u001b[0m\u001b[1;36m0\u001b[0m\u001b[1;33m]\u001b[0m\u001b[1;33m)\u001b[0m\u001b[1;33m]\u001b[0m \u001b[1;32mfor\u001b[0m \u001b[0mc\u001b[0m \u001b[1;32min\u001b[0m \u001b[0mnew_clauses\u001b[0m\u001b[1;33m]\u001b[0m\u001b[1;33m\u001b[0m\u001b[1;33m\u001b[0m\u001b[0m\n\u001b[0m",
      "\u001b[1;31mNameError\u001b[0m: name 'new_clauses' is not defined"
     ]
    }
   ],
   "source": []
  },
  {
   "cell_type": "code",
   "execution_count": null,
   "id": "d1039b39",
   "metadata": {},
   "outputs": [],
   "source": []
  },
  {
   "cell_type": "code",
   "execution_count": null,
   "id": "8173f2af",
   "metadata": {},
   "outputs": [],
   "source": []
  }
 ],
 "metadata": {
  "kernelspec": {
   "display_name": "Python 3 (ipykernel)",
   "language": "python",
   "name": "python3"
  },
  "language_info": {
   "codemirror_mode": {
    "name": "ipython",
    "version": 3
   },
   "file_extension": ".py",
   "mimetype": "text/x-python",
   "name": "python",
   "nbconvert_exporter": "python",
   "pygments_lexer": "ipython3",
   "version": "3.9.7"
  }
 },
 "nbformat": 4,
 "nbformat_minor": 5
}
