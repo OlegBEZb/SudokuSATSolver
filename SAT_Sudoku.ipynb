{
 "cells": [
  {
   "cell_type": "code",
   "execution_count": 1,
   "id": "07747bf7",
   "metadata": {
    "scrolled": true
   },
   "outputs": [],
   "source": [
    "from pysat.formula import CNF\n",
    "import sys\n",
    "import os\n",
    "import math"
   ]
  },
  {
   "cell_type": "code",
   "execution_count": 2,
   "id": "9487526a",
   "metadata": {},
   "outputs": [
    {
     "data": {
      "text/plain": [
       "'0.1.7.dev12'"
      ]
     },
     "execution_count": 2,
     "metadata": {},
     "output_type": "execute_result"
    }
   ],
   "source": [
    "import pysat\n",
    "pysat.__version__"
   ]
  },
  {
   "cell_type": "code",
   "execution_count": 3,
   "id": "38524022",
   "metadata": {},
   "outputs": [],
   "source": [
    "test_sats_path = 'test sudokus'"
   ]
  },
  {
   "cell_type": "code",
   "execution_count": 4,
   "id": "4921cf07",
   "metadata": {},
   "outputs": [
    {
     "data": {
      "text/plain": [
       "[[111, 112, 113, 114, 115, 116, 117, 118, 119],\n",
       " [-111, -112],\n",
       " [-111, -113],\n",
       " [-111, -114],\n",
       " [-111, -115],\n",
       " [-111, -116],\n",
       " [-111, -117],\n",
       " [-111, -118],\n",
       " [-111, -119],\n",
       " [-112, -113]]"
      ]
     },
     "execution_count": 4,
     "metadata": {},
     "output_type": "execute_result"
    }
   ],
   "source": [
    "def read_DIMACS(path):\n",
    "    return CNF(from_file=path).clauses\n",
    "    \n",
    "    \n",
    "rules = read_DIMACS(os.path.join(test_sats_path, 'sudoku-rules-9x9.txt'))\n",
    "rules[:10]"
   ]
  },
  {
   "cell_type": "code",
   "execution_count": 5,
   "id": "761a9c96",
   "metadata": {},
   "outputs": [
    {
     "data": {
      "text/plain": [
       "{0: '0',\n",
       " 1: '1',\n",
       " 2: '2',\n",
       " 3: '3',\n",
       " 4: '4',\n",
       " 5: '5',\n",
       " 6: '6',\n",
       " 7: '7',\n",
       " 8: '8',\n",
       " 9: '9',\n",
       " 10: 'A',\n",
       " 11: 'B',\n",
       " 12: 'C',\n",
       " 13: 'D',\n",
       " 14: 'E',\n",
       " 15: 'F',\n",
       " 16: 'G'}"
      ]
     },
     "execution_count": 5,
     "metadata": {},
     "output_type": "execute_result"
    }
   ],
   "source": [
    "input_mapping = {'0':0,'1':1,'2':2,'3':3,'4':4,'5':5,'6':6,'7':7,'8':8,'9':9, 'A': 10, 'B': 11, \"C\": 12, 'D': 13, 'E': 14, 'F': 15, 'G': 16}\n",
    "\n",
    "inverse_input_mapping = {v:k for k, v in input_mapping.items()}\n",
    "inverse_input_mapping"
   ]
  },
  {
   "cell_type": "code",
   "execution_count": 6,
   "id": "322c4474",
   "metadata": {},
   "outputs": [],
   "source": [
    "def line2DIMACS(sudoku):\n",
    "    input_len = len(sudoku)\n",
    "    table_size = int(math.pow(input_len, 0.5))\n",
    "    clause_list = []\n",
    "    for row in range(table_size):\n",
    "        for column in range(table_size):\n",
    "            current_line_index = column + table_size * row\n",
    "            cell_value = sudoku[current_line_index]\n",
    "            if cell_value != '.':\n",
    "                clause_list.append(f\"{inverse_input_mapping[row+1]}{inverse_input_mapping[column+1]}{cell_value} 0\")\n",
    "    return clause_list, table_size\n",
    "\n",
    "def line2CNF(line):\n",
    "    cnf_list, table_size = line2DIMACS(line)\n",
    "    return CNF(from_string='\\n'.join(cnf_list)).clauses, cnf_list, table_size"
   ]
  },
  {
   "cell_type": "code",
   "execution_count": 7,
   "id": "e180272a",
   "metadata": {},
   "outputs": [],
   "source": [
    "# with open(os.path.join(test_sats_path, '4x4.txt')) as f:\n",
    "with open(os.path.join(test_sats_path, '1000 sudokus.txt')) as f:\n",
    "    sudoku_list = f.readlines()"
   ]
  },
  {
   "cell_type": "code",
   "execution_count": 8,
   "id": "a45498c7",
   "metadata": {},
   "outputs": [],
   "source": [
    "sudoku_setup_CNF, sudoku_setup_DIMACS, sudoku_size = line2CNF(sudoku_list[3])"
   ]
  },
  {
   "cell_type": "code",
   "execution_count": 9,
   "id": "34128c3f",
   "metadata": {},
   "outputs": [],
   "source": [
    "from dpll import DPLL"
   ]
  },
  {
   "cell_type": "code",
   "execution_count": 10,
   "id": "6d4c32f3",
   "metadata": {},
   "outputs": [],
   "source": [
    "clauses = rules + sudoku_setup_CNF\n",
    "# clauses = [[1,2], [1], [-3]]\n",
    "\n",
    "solver = DPLL(clauses, variable_selection_method='random', verbose=0)"
   ]
  },
  {
   "cell_type": "code",
   "execution_count": 11,
   "id": "0c4a4a49",
   "metadata": {
    "scrolled": true
   },
   "outputs": [],
   "source": [
    "# solver.variables_set"
   ]
  },
  {
   "cell_type": "code",
   "execution_count": 12,
   "id": "1e4a4a75",
   "metadata": {},
   "outputs": [],
   "source": [
    "# solver.clauses"
   ]
  },
  {
   "cell_type": "code",
   "execution_count": null,
   "id": "a2fa0b50",
   "metadata": {
    "scrolled": true
   },
   "outputs": [],
   "source": [
    "%%time\n",
    "\n",
    "solution = solver.backtrack(solver.clauses, partial_assignment=[], split_literal=tuple())"
   ]
  },
  {
   "cell_type": "code",
   "execution_count": null,
   "id": "5cf65f56",
   "metadata": {
    "scrolled": true
   },
   "outputs": [],
   "source": [
    "solution"
   ]
  },
  {
   "cell_type": "code",
   "execution_count": null,
   "id": "c058c498",
   "metadata": {},
   "outputs": [],
   "source": [
    "def get_digit(number, n):\n",
    "    return int(number // 10**n % 10)\n",
    "\n",
    "import numpy as np\n",
    "matrix = np.zeros((sudoku_size, sudoku_size), dtype=int)\n",
    "for clause in sudoku_setup_CNF:\n",
    "    for item in clause:\n",
    "        matrix[get_digit(item, 2)-1, get_digit(item, 1)-1] = get_digit(item, 0)"
   ]
  },
  {
   "cell_type": "code",
   "execution_count": null,
   "id": "6f8b33b8",
   "metadata": {},
   "outputs": [],
   "source": [
    "def matprint(mat, fmt=\"g\"):\n",
    "    col_maxes = [max([len((\"{:\"+fmt+\"}\").format(x)) for x in col]) for col in mat.T]\n",
    "    for x in mat:\n",
    "        for i, y in enumerate(x):\n",
    "            print((\"{:\"+str(col_maxes[i])+fmt+\"}\").format(y), end=\"  \")\n",
    "        print(\"\")\n",
    "        \n",
    "matprint(matrix)"
   ]
  },
  {
   "cell_type": "code",
   "execution_count": null,
   "id": "cfecd529",
   "metadata": {
    "scrolled": true
   },
   "outputs": [],
   "source": [
    "found_assignments"
   ]
  },
  {
   "cell_type": "code",
   "execution_count": null,
   "id": "7711768b",
   "metadata": {
    "scrolled": false
   },
   "outputs": [],
   "source": [
    "found_assignments = sorted(solution[1], key=lambda x: x[0])\n",
    "\n",
    "matrix = np.zeros((sudoku_size, sudoku_size), dtype=int)\n",
    "for assignment in found_assignments:\n",
    "    if assignment[1]:\n",
    "        item = assignment[0]\n",
    "        matrix[int(item[0])-1, int(item[1])-1] = int(item[2])\n",
    "        \n",
    "matprint(matrix)"
   ]
  },
  {
   "cell_type": "code",
   "execution_count": null,
   "id": "0e97f9ff",
   "metadata": {},
   "outputs": [],
   "source": []
  }
 ],
 "metadata": {
  "kernelspec": {
   "display_name": "Python 3",
   "language": "python",
   "name": "python3"
  },
  "language_info": {
   "codemirror_mode": {
    "name": "ipython",
    "version": 3
   },
   "file_extension": ".py",
   "mimetype": "text/x-python",
   "name": "python",
   "nbconvert_exporter": "python",
   "pygments_lexer": "ipython3",
   "version": "3.8.8"
  }
 },
 "nbformat": 4,
 "nbformat_minor": 5
}
